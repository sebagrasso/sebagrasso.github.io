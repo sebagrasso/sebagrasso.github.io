{
 "cells": [
  {
   "cell_type": "code",
   "execution_count": 1,
   "id": "bc0a06f6-c9c4-438a-a356-179ba60f79da",
   "metadata": {},
   "outputs": [],
   "source": [
    "## True if you want to import data downloaded previusly\n",
    "# flag_loading2 = False\n",
    "\n",
    "## History Prices Interval:\n",
    "## 1 = 5m\n",
    "## 2 = 1h\n",
    "## 3 = 1d\n",
    "\n",
    "inter2 = 3\n",
    "\n",
    "# Update history dispite it was downloaded today\n",
    "flag_history_download2 = False"
   ]
  },
  {
   "cell_type": "code",
   "execution_count": 2,
   "id": "a05d1dfb-44a2-4c39-84d5-a19590c7a6ae",
   "metadata": {
    "tags": []
   },
   "outputs": [
    {
     "name": "stdout",
     "output_type": "stream",
     "text": [
      "\n",
      "1. HISTORY\n",
      "\n",
      "---------------\n",
      "1.1 Header\n",
      "---------------\n",
      "\n",
      "Not loading updated files\n",
      "Loading outdated files\n",
      "Updating History Data, only once today\n",
      "History interval: 1 DAY\n",
      "Last operations file loaded\n",
      "Last strategy file loaded\n",
      "Market = portfolio_world_index_crypto_currencies_top1000_mcapT22022\n",
      "\n",
      "---------------\n",
      "1.2 Files Loading\n",
      "---------------\n",
      "\n",
      "HISTORY loaded\n",
      "flag_history: False\n",
      "GRAL DATA file loaded\n",
      "Oudated STATS loaded\n",
      "Oudated STATS_VAL loaded\n",
      "Oudated EARNINGS loaded\n",
      "\n",
      "---------------\n",
      "1.3 Data Download\n",
      "---------------\n",
      "\n",
      "Stats data already gotten or not needed\n",
      "Stats Val data already gotten or not needed\n",
      "General data already gotten\n",
      "EUR-USD downloaded\n",
      "History data already gotten\n",
      "Earnings data already gotten or no needed\n",
      "\n",
      "---------------\n",
      "1.4 Data Wrangling\n",
      "---------------\n",
      "\n",
      "Data already checked\n",
      "Earnings data already edited or there are no earnings\n",
      "\n",
      "---------------\n",
      "1.6 Export\n",
      "---------------\n",
      "\n",
      "Nothing new to export\n",
      "Nothing new to export\n",
      "Nothing new to export\n",
      "Nothing new to export\n",
      "Nothing new to export\n",
      "\n",
      "2. STRATEGY\n",
      "\n",
      "---------------\n",
      "2.1 Operations DF Update\n",
      "---------------\n",
      "\n",
      "There is no new activity\n",
      "Current prices Updated\n",
      "\n",
      "---------------\n",
      "2.2 Export\n",
      "---------------\n",
      "\n",
      "Nothing new to export\n"
     ]
    }
   ],
   "source": [
    "%run 2_STRATEGY_UPDATE.ipynb"
   ]
  },
  {
   "cell_type": "markdown",
   "id": "45199c54-4ab7-43ae-9802-06bcbf75ac55",
   "metadata": {
    "tags": []
   },
   "source": [
    "### 2. Analysis"
   ]
  },
  {
   "cell_type": "code",
   "execution_count": 3,
   "id": "ed568bf6-16eb-49cb-ac20-69fe5433016c",
   "metadata": {},
   "outputs": [
    {
     "name": "stdout",
     "output_type": "stream",
     "text": [
      "\n",
      "3. TECNICAL ANALYSIS\n",
      "\n",
      "---------------\n",
      "3.1 Calculations\n",
      "---------------\n",
      "\n"
     ]
    }
   ],
   "source": [
    "print(\"\"\"\n",
    "3. TECNICAL ANALYSIS\n",
    "\n",
    "---------------\n",
    "3.1 Calculations\n",
    "---------------\n",
    "\"\"\")"
   ]
  },
  {
   "cell_type": "markdown",
   "id": "eb0b05c0-ca8a-46d0-b37c-97b23fb0ad44",
   "metadata": {
    "tags": []
   },
   "source": [
    "#### 2.1 Import"
   ]
  },
  {
   "cell_type": "code",
   "execution_count": 4,
   "id": "b1e2f939-c8f9-422b-ad74-a359d20eede2",
   "metadata": {},
   "outputs": [],
   "source": [
    "from sklearn.preprocessing import normalize"
   ]
  },
  {
   "cell_type": "markdown",
   "id": "3131175b-59d4-42ec-a812-5a471baf970a",
   "metadata": {
    "tags": []
   },
   "source": [
    "#### 2.2 Functions"
   ]
  },
  {
   "cell_type": "code",
   "execution_count": 5,
   "id": "b98ed01e-1d6e-4a85-a891-915f5f7d2fb0",
   "metadata": {},
   "outputs": [
    {
     "data": {
      "text/html": [
       "\n",
       "<style>\n",
       ".p-Widget.jp-RenderedImage.jp-mod-trusted.jp-OutputArea-output {\n",
       "    display: table-cell;\n",
       "    text-align: center;\n",
       "    vertical-align: middle;\n",
       "}\n",
       "</style>\n"
      ],
      "text/plain": [
       "<IPython.core.display.HTML object>"
      ]
     },
     "execution_count": 5,
     "metadata": {},
     "output_type": "execute_result"
    }
   ],
   "source": [
    "from IPython.core.display import HTML\n",
    "HTML(\"\"\"\n",
    "<style>\n",
    ".p-Widget.jp-RenderedImage.jp-mod-trusted.jp-OutputArea-output {\n",
    "    display: table-cell;\n",
    "    text-align: center;\n",
    "    vertical-align: middle;\n",
    "}\n",
    "</style>\n",
    "\"\"\")"
   ]
  },
  {
   "cell_type": "markdown",
   "id": "e28c0b10-cbad-492a-99eb-9801927cd122",
   "metadata": {
    "tags": []
   },
   "source": [
    "#### 2.3 Calculations"
   ]
  },
  {
   "cell_type": "markdown",
   "id": "f73b7c0c-ab6c-49a3-88e6-941dda3c183c",
   "metadata": {
    "tags": []
   },
   "source": [
    "##### 2.3.1 General"
   ]
  },
  {
   "cell_type": "code",
   "execution_count": 6,
   "id": "088b011d-7c77-4899-99ac-51712e015fa2",
   "metadata": {},
   "outputs": [],
   "source": [
    "analysis_ticks = strategy_df.index\n",
    "analysis_df = data.loc[:,(analysis_ticks,slice(None))]"
   ]
  },
  {
   "cell_type": "code",
   "execution_count": 7,
   "id": "04b52090-8452-43e6-af32-7aff45a1492c",
   "metadata": {},
   "outputs": [],
   "source": [
    "# SHARES NORMALIZATION (SUM = 1)\n",
    "shares_norm = normalize(strategy_df[\"shares\"].values.reshape(-1,1), axis = 0,norm=\"l1\").round(3).flatten()"
   ]
  },
  {
   "cell_type": "markdown",
   "id": "5e7219a1-7335-4d75-9a48-ed3b61b6817b",
   "metadata": {
    "tags": []
   },
   "source": [
    "##### 2.3.2 Moving Averages Steps Optimization for strategy ticks"
   ]
  },
  {
   "cell_type": "code",
   "execution_count": 8,
   "id": "777f851b-c6fd-4c82-a68b-90b4a09ef941",
   "metadata": {},
   "outputs": [],
   "source": [
    "# start = -180\n",
    "# t = \"d\"\n",
    "# sma1 = range(2,20,4)\n",
    "# sma2 = range(20,100,10)\n",
    "           \n",
    "# data2 = analysis_df.resample(f\"1{t}\").mean().loc[:,(analysis_ticks,\"Close\")][start:]\n",
    "# # data2.columns = data2.columns.droplevel(1)\n",
    "\n",
    "# results = pd.DataFrame()\n",
    "\n",
    "# for SMA1, SMA2 in product(sma1, sma2):\n",
    "#     for tic in analysis_ticks:\n",
    "#         data2[tic].dropna(how=\"all\", inplace=True)\n",
    "#         data2[(tic,'Returns')] = data2[tic]['Close'].pct_change()\n",
    "#         data2[(tic,'SMA1')] = data2[(tic,'Returns')].rolling(SMA1).mean()\n",
    "#         data2[(tic,'SMA2')] = data2[(tic,'Returns')].rolling(SMA2).mean()\n",
    "#         data2[(tic,'Position')] = np.where(data2[(tic,'SMA1')] > data2[(tic,'SMA2')], 1, -1)\n",
    "#         data2[(tic,'Strategy')] = data2[(tic,'Position')].shift(1) * data2[(tic,'Returns')]\n",
    "#         data2[tic].dropna(how=\"all\", inplace=True)\n",
    "        \n",
    "#         perf = np.exp(data2[[(tic,'Returns'), (tic,'Strategy')]].sum())\n",
    "        \n",
    "#         results = results.append(pd.DataFrame(\n",
    "#                     {\"Ticker\":tic,'SMA1': SMA1, 'SMA2': SMA2,\n",
    "#                      'MARKET': perf[(tic,'Returns')],\n",
    "#                      'STRATEGY': perf[(tic,'Strategy')],\n",
    "#                      'OUT': perf[(tic,'Strategy')] - perf[(tic,'Returns')]},\n",
    "#                      index=[0]), ignore_index=True)\n",
    "\n",
    "# del data2, perf"
   ]
  },
  {
   "cell_type": "code",
   "execution_count": 9,
   "id": "88480ef7-a9af-4e8c-9c75-536f2692c622",
   "metadata": {},
   "outputs": [],
   "source": [
    "if inter2 == 3:\n",
    "    start2 = -180\n",
    "else:\n",
    "    start2 = -30\n",
    "\n",
    "t = \"d\"\n",
    "sma1 = range(2,20,4)\n",
    "sma2 = range(20,100,10)\n",
    "           \n",
    "data2 = analysis_df.resample(f\"1{t}\").mean().loc[:,(analysis_ticks,\"Close\")][start2:]\n",
    "results_analysis_ticks = pd.DataFrame()\n",
    "broker_fee = 0\n",
    "\n",
    "for SMA1, SMA2 in product(sma1, sma2):\n",
    "    for tic in analysis_ticks:\n",
    "        data2[tic].dropna(how=\"all\", inplace=True)\n",
    "        data2[(tic,'Returns')] = data2[tic]['Close'].pct_change()\n",
    "        data2[(tic,'SMA1')] = data2[(tic,'Returns')].rolling(SMA1).mean()\n",
    "        data2[(tic,'SMA2')] = data2[(tic,'Returns')].rolling(SMA2).mean()\n",
    "        data2[(tic,'Position')] = np.where(data2[(tic,'SMA1')] > data2[(tic,'SMA2')], 1, 0)\n",
    "        data2[(tic,'Position_ma4')] = data2[(tic,'Position')].rolling(4).mean().round()\n",
    "        \n",
    "        data2[(tic,'flag_op')] = np.where(data2[(tic,'Position_ma4')].shift(1).eq(1) & data2[(tic,'Position_ma4')].eq(0),\n",
    "                                                       \"sell\",\n",
    "                                                        np.where(data2[(tic,'Position_ma4')].shift(1).eq(0) & data2[(tic,'Position_ma4')].eq(1),\n",
    "                                                                \"buy\",\n",
    "                                                                \"\"))\n",
    "        \n",
    "        sell_ind = data2[tic][data2[tic][\"flag_op\"] == \"sell\"].index\n",
    "        buy_ind = data2[tic][data2[tic][\"flag_op\"] == \"buy\"].index\n",
    "        buy_sell_df = data2[tic][data2[tic][\"flag_op\"] != \"\"]\n",
    "        \n",
    "        data2[(tic,'Rets_Strat')] = 0\n",
    "        # PERCENTAGE RETURNS WHEN SELLING\n",
    "        data2[(tic,'Rets_Strat')][sell_ind] = np.where(data2[tic].loc[sell_ind].index,\n",
    "                ((buy_sell_df[\"Close\"] - buy_sell_df[\"Close\"].shift(1)) / buy_sell_df[\"Close\"].shift(1))[sell_ind],\n",
    "                0)\n",
    "        # BROKER FEE WHEN BUYING\n",
    "        data2[(tic,'Rets_Strat')][buy_ind] = broker_fee\n",
    "        \n",
    "        data2[tic].dropna(how=\"all\", inplace=True)\n",
    "        \n",
    "        donot_ret =  (data2[tic][\"Close\"][-1] - data2[tic][\"Close\"][start2] ) / data2[tic][\"Close\"][start2]\n",
    "        \n",
    "        results_analysis_ticks = results_analysis_ticks.append(pd.DataFrame(\n",
    "                    {\"ticker\":tic,'SMA1': SMA1, 'SMA2': SMA2,\n",
    "                     'MARKET': donot_ret,\n",
    "                     'OUT': data2[(tic,'Rets_Strat')][sell_ind].sum()},\n",
    "                     index=[0]), ignore_index=True)\n",
    "\n",
    "results_analysis_ticks = results_analysis_ticks.sort_values(by=\"OUT\", ascending = False).reset_index(drop = True)        \n",
    "index_max_out = results_analysis_ticks.iloc[results_analysis_ticks.groupby([\"ticker\"])[\"OUT\"].idxmax()].index\n",
    "results_analysis_ticks_best = results_analysis_ticks.iloc[index_max_out].sort_values(by=\"OUT\", ascending = False).reset_index(drop = True)\n",
    "\n",
    "del data2, sell_ind, buy_ind, buy_sell_df, broker_fee, donot_ret, index_max_out"
   ]
  },
  {
   "cell_type": "markdown",
   "id": "2bb51468-42a5-48fb-9a13-dfac42fb1c98",
   "metadata": {
    "jp-MarkdownHeadingCollapsed": true,
    "tags": []
   },
   "source": [
    "##### 2.3.3 Demo"
   ]
  },
  {
   "cell_type": "code",
   "execution_count": 10,
   "id": "a7dbeaf7-349f-41a8-b206-247b0ee604a2",
   "metadata": {},
   "outputs": [],
   "source": [
    "# fig, ax = plt.subplots(3,1,figsize=(20,10))\n",
    "\n",
    "# t = \"AAPL\"\n",
    "# j = -160\n",
    "# k = -1\n",
    "\n",
    "# data_smopt_allticks[t][\"Close\"][j:k].plot(ax=ax[0],c=\"k\", label = \"Price\")\n",
    "# ax2 = ax[0].twinx()\n",
    "\n",
    "# data_smopt_allticks[t][\"SMA1\"][j:k].plot(ax=ax2,c=\"g\", label = \"SMA1\")\n",
    "# data_smopt_allticks[t][\"SMA2\"][j:k].plot(ax=ax2,c=\"y\", label = \"SMA2\")\n",
    "\n",
    "# data_smopt_allticks[t][\"Returns\"][j:k].plot(ax=ax[1],c=\"c\", label = \"Returns\")\n",
    "\n",
    "# # data_smopt_allticks[t][\"Strategy\"][j:k].plot(ax=ax[1],c=\"b\", label = \"Strategy\")\n",
    "# ax[1].grid(False)\n",
    "\n",
    "# ax3 = ax[1].twinx()\n",
    "# ax3.plot(data_smopt_allticks[t][\"Position\"][j:k],\"ro\", label = \"Position\")\n",
    "\n",
    "# ax[0].legend(loc=\"upper right\")\n",
    "# ax[1].legend()\n",
    "# ax2.legend(loc=\"upper left\")\n",
    "\n",
    "# ax2.grid(False)\n",
    "\n",
    "# strat_ma_cum_filt[t][j:k].plot(ax=ax[2],c=\"r\", label = \"Stragety\")\n",
    "# ax[2].legend()\n",
    "\n",
    "# plt.show()"
   ]
  },
  {
   "cell_type": "code",
   "execution_count": 11,
   "id": "712b158e-ed2a-4eff-93b0-19271d63ff5b",
   "metadata": {
    "tags": []
   },
   "outputs": [],
   "source": [
    "# # BUY-SELL FLAG SMOOTH WITH MOVING AVERAGE DEMO\n",
    "# z = np.random.randint(1, high = 1100)\n",
    "# data_smopt_allticks[(ticks[z],'Position_ma4')] = data_smopt_allticks[(ticks[z],'Position')].rolling(4).mean().round()\n",
    "# plt.plot(data_smopt_allticks[ticks[z],\"Position\"][-100:],\"or\")\n",
    "# data_smopt_allticks[ticks[z],\"Position_ma4\"][-100:].plot(c=\"g\")\n",
    "# plt.show()"
   ]
  },
  {
   "cell_type": "markdown",
   "id": "8a594558-38bf-48bf-869d-ff985d127d2f",
   "metadata": {
    "jp-MarkdownHeadingCollapsed": true,
    "tags": []
   },
   "source": [
    "##### 2.3.4 Portfolio"
   ]
  },
  {
   "cell_type": "code",
   "execution_count": 12,
   "id": "c810a7dc-2bd3-454a-9c19-fcf2f99cd6c1",
   "metadata": {},
   "outputs": [],
   "source": [
    "# t = \"d\"\n",
    "t = interval[-1]\n",
    "\n",
    "returns = analysis_df.resample(f'1{t}').mean().loc[:,(analysis_ticks,\"Close\")].pct_change()\n",
    "\n",
    "returns_cartera = returns.dropna(how=\"all\")\n",
    "volatility_cartera_tick = (returns_cartera.std()*100).round(2)\n",
    "volatility_cartera = np.average(volatility_cartera_tick, axis = 0, weights = shares_norm).round(2)"
   ]
  },
  {
   "cell_type": "markdown",
   "id": "b9a3734a-11e6-4939-aa6d-d1bf0573c311",
   "metadata": {
    "jp-MarkdownHeadingCollapsed": true,
    "tags": []
   },
   "source": [
    "##### 2.3.5 VOLUME DELTA USING DIFF (IN PROGRESS)"
   ]
  },
  {
   "cell_type": "raw",
   "id": "08bb72d0-4b7e-4876-9ad2-39a257c18507",
   "metadata": {},
   "source": [
    "fig,ax=plt.subplots(figsize=(20,10))\n",
    "i=0\n",
    "start = -30\n",
    "data2 = analysis_df.resample(f'1d').mean()[start:]\n",
    "up = data2[analysis_ticks[i]][data2.loc[:,(analysis_ticks[i],\"Close\")] >= data2.loc[:,(analysis_ticks[i],\"Open\")]]\n",
    "down = data2[analysis_ticks[i]][data2.loc[:,(analysis_ticks[i],\"Close\")] < data2.loc[:,(analysis_ticks[i],\"Open\")]]\n",
    "\n",
    "ax2 = ax.twinx()\n",
    "ax2.bar(up.index,up.Volume, 1, color='green', edgecolor=\"#EAEAF2\")\n",
    "ax2.bar(down.index,down.Volume,1,color='red', edgecolor=\"#EAEAF2\")\n",
    "ax2.set_ylim(0,1.8*np.max(data2[analysis_ticks[i]].Volume))\n",
    "\n",
    "ax2.set_ylabel(\"Volume\", fontsize=15)\n",
    "ax2.grid(False)\n",
    "\n",
    "data2[analysis_ticks[i]].Volume.diff().plot(ax=ax, c=\"k\",linewidth = 3)\n",
    "\n",
    "up.Volume.diff().plot(ax=ax, c=\"g\")\n",
    "# ax.axhline(up.Volume.diff().mean(),c=\"g\")\n",
    "down.Volume.diff().plot(ax=ax, c=\"r\")\n",
    "# ax.axhline(down.Volume.diff().mean(),c=\"r\")\n",
    "\n",
    "plt.show()"
   ]
  },
  {
   "cell_type": "markdown",
   "id": "406920f4-2e74-4da0-8e17-7cde7dd7af19",
   "metadata": {
    "tags": []
   },
   "source": [
    "### 3. Charts"
   ]
  },
  {
   "cell_type": "markdown",
   "id": "e182be1f-8ce0-46c2-8724-215e0455e52c",
   "metadata": {
    "jp-MarkdownHeadingCollapsed": true,
    "tags": []
   },
   "source": [
    "#### 3.1 Stock Price | Volume per tick"
   ]
  },
  {
   "cell_type": "code",
   "execution_count": 13,
   "id": "6a0d3758-ce26-460e-9c60-17302970fe78",
   "metadata": {
    "tags": []
   },
   "outputs": [
    {
     "data": {
      "application/vnd.jupyter.widget-view+json": {
       "model_id": "57a0653b4134404caa14126a2805536c",
       "version_major": 2,
       "version_minor": 0
      },
      "text/plain": [
       "Box(children=(IntSlider(value=-365, description='Steps before', layout=Layout(width='30%'), max=-10, min=-2194…"
      ]
     },
     "metadata": {},
     "output_type": "display_data"
    },
    {
     "data": {
      "application/vnd.jupyter.widget-view+json": {
       "model_id": "f4b91523e4514920bb7939486025447e",
       "version_major": 2,
       "version_minor": 0
      },
      "text/plain": [
       "Output()"
      ]
     },
     "metadata": {},
     "output_type": "display_data"
    }
   ],
   "source": [
    "#CHART 1: Stock Price | Volume per tick\n",
    "def lines_plot(start4, t):\n",
    "    ticks = analysis_ticks\n",
    "    letra = \"consolas\"\n",
    "    \n",
    "    n = 2\n",
    "    n_rows = np.ceil(len(ticks)/n).astype(int)\n",
    "    n_cols = n\n",
    "    ysize = len(ticks) / 0.4\n",
    "    i = 0\n",
    "    if t == \"m\":\n",
    "        data2 = data\n",
    "    else:\n",
    "        data2 = data.resample(f'1{t}').mean()[start4:]\n",
    "\n",
    "    if t == \"d\":\n",
    "        width = 1\n",
    "    else:\n",
    "        width = 1 / 24\n",
    "        \n",
    "    fig, axes = plt.subplots(n_rows, n_cols, figsize = (20,ysize))\n",
    "    for row_num in range(n_rows):\n",
    "        for col_num in range(n_cols):\n",
    "            if i <= len(analysis_ticks)-1:\n",
    "                ax = axes[row_num][col_num]\n",
    "                tic_name = data_gral[\"name\"][data_gral[\"ticker\"] == ticks[i]].values[0]\n",
    "                # data2 = data[ticks[i]].groupby([pd.Grouper(freq=f'1{t}', sort=True)]).mean().interpolate()[start4:].dropna(how=\"all\", axis=0)\n",
    "                \n",
    "                up = data2[ticks[i]][data2.loc[:,(ticks[i],\"Close\")] >= data2.loc[:,(ticks[i],\"Open\")]]\n",
    "                down = data2[ticks[i]][data2.loc[:,(ticks[i],\"Close\")] < data2.loc[:,(ticks[i],\"Open\")]]\n",
    "                \n",
    "                #Price plot\n",
    "                ax.fill_between(data2[ticks[i]][\"Close\"].index,\n",
    "                                 data2[ticks[i]][\"Low\"], \n",
    "                                 data2[ticks[i]][\"High\"],\n",
    "                                 color = \"blue\",\n",
    "                                 alpha = 0.1,\n",
    "                                 label = \"Price delta step\")\n",
    "                ax.plot(data2[ticks[i]][\"Close\"],\n",
    "                        \"--k\", label = \"Close Price\")\n",
    "                \n",
    "                ax.set_title(tic_name,font = letra, fontsize=20)\n",
    "                ax.legend(loc=(0.01,0.8))\n",
    "                # ax.set_xticklabels(ax.get_xticklabels(), rotation = 45)\n",
    "                ax.set_xticklabels(ax.get_xticklabels(), rotation = 45)\n",
    "                \n",
    "                ax.set_ylabel(\"Price\",font = letra, fontsize=15)\n",
    "                \n",
    "                if up.Volume.isnull().all() == False:\n",
    "                    ax.set_ylim(np.min(data2[ticks[i]][\"Close\"])/1.6,np.max(data2[ticks[i]][\"Close\"])*1.1)\n",
    "                else:\n",
    "                    ax.set_ylim(np.min(data2[ticks[i]][\"Close\"])/1.05,np.max(data2[ticks[i]][\"Close\"])*1.05)\n",
    "                \n",
    "                # Operations reference\n",
    "                try:\n",
    "                    for j in range(len(operations_df.index[operations_df[\"ticker\"] == ticks[i]])):\n",
    "                        # if operations_df.index[operations_df[\"ticker\"] == ticks[i]][j] >= min(data2[ticks[i]][\"Close\"].index).tz_convert(None):\n",
    "                        if operations_df.index[operations_df[\"ticker\"] == ticks[i]][j] >= min(data2[ticks[i]][\"Close\"].index):\n",
    "                                \n",
    "                            ax.axvline(operations_df.index[operations_df[\"ticker\"] == ticks[i]][j],\n",
    "                                               color=\"orange\", linestyle=\"dashed\", alpha = 0.6)\n",
    "                            \n",
    "                            ax.axhline(operations_df[\"operation_price\"][operations_df[\"ticker\"] == ticks[i]][j],\n",
    "                                               color=\"orange\", linestyle=\"dashed\", alpha = 0.6)\n",
    "                except:\n",
    "                    pass\n",
    "                \n",
    "                if up.Volume.isnull().all() == False:\n",
    "                    # Volume plot\n",
    "                    ax2 = ax.twinx()\n",
    "                    ax2.bar(up.index,up.Volume, width, color='green', edgecolor=\"#EAEAF2\")\n",
    "                    ax2.bar(down.index,down.Volume,width,color='red', edgecolor=\"#EAEAF2\")\n",
    "                    ax2.set_ylim(0,2*np.max(data2[ticks[i]].Volume))\n",
    "                    \n",
    "                    ax2.set_ylabel(\"Volume\",font = letra, fontsize=15)\n",
    "                    ax2.grid(False)\n",
    "                else:\n",
    "                    pass\n",
    "                i+=1\n",
    "    fig.suptitle(f'Quick Look last {-start4} days',font = letra, fontsize= 35, y = 1.001)\n",
    "    fig.tight_layout()\n",
    "    plt.show()\n",
    "\n",
    "\n",
    "# DISPLAY\n",
    "if inter2 == 3:\n",
    "    start4 = widgets.IntSlider(min = -len(data.resample(f'1d')), max = -10, step = 30, value = -365, description = \"Steps before\",\n",
    "                                      style = {'description_width': 'initial'},\n",
    "                                     layout=widgets.Layout(width=\"30%\"))\n",
    "elif inter2 == 2:\n",
    "    start4 = widgets.IntSlider(min = -len(data.resample(f'1h')), max = -1, step = 1, value = -5, description = \"Steps before\",\n",
    "                                      style = {'description_width': 'initial'},\n",
    "                                     layout=widgets.Layout(width=\"30%\"))\n",
    "else:\n",
    "    start4 = widgets.IntSlider(min = -len(data.resample(f'5m')), max = -1, step = 1, value = -1, description = \"Steps before\",\n",
    "                                      style = {'description_width': 'initial'},\n",
    "                                     layout=widgets.Layout(width=\"30%\"))\n",
    "\n",
    "t = widgets.Dropdown(options = [\"d\",\"h\",\"m\"], description = \"Select Prices Interval\",\n",
    "                     style = {'description_width': 'initial'}, layout=widgets.Layout(width=\"25%\"))\n",
    "\n",
    "ui = widgets.Box([start4,t])\n",
    "out = widgets.interactive_output(lines_plot, {'start4': start4, 't': t})\n",
    "display(ui,out)"
   ]
  },
  {
   "cell_type": "markdown",
   "id": "b6911812-60c7-40b7-8b37-e0e5aa058df3",
   "metadata": {
    "tags": []
   },
   "source": [
    "#### 3.2 Dashboard 1"
   ]
  },
  {
   "cell_type": "code",
   "execution_count": 14,
   "id": "25876e08-f2d5-4c47-95b1-461813ceca6d",
   "metadata": {},
   "outputs": [
    {
     "name": "stdout",
     "output_type": "stream",
     "text": [
      "\n",
      "---------------\n",
      "2.2 DASHBOARD\n",
      "---------------\n",
      "\n"
     ]
    }
   ],
   "source": [
    "print(\"\"\"\n",
    "---------------\n",
    "2.2 DASHBOARD\n",
    "---------------\n",
    "\"\"\")"
   ]
  },
  {
   "cell_type": "raw",
   "id": "af4c6b8c-5645-4dcf-8d7a-bd25ecee58d0",
   "metadata": {},
   "source": [
    "# returns[\"TSLA\"].iloc[-1]\n",
    "t = interval[-1]\n",
    "start5 = 100\n",
    "data2 = analysis_df.resample(f'1{t}').mean()[start5:]\n",
    "Ticker = \"AAPL\""
   ]
  },
  {
   "cell_type": "code",
   "execution_count": 50,
   "id": "cf8a5d4c-4034-48a2-9c0e-ae1996463731",
   "metadata": {
    "tags": []
   },
   "outputs": [
    {
     "data": {
      "application/vnd.jupyter.widget-view+json": {
       "model_id": "7bdaeb6896de47bc8427b352455f7a71",
       "version_major": 2,
       "version_minor": 0
      },
      "text/plain": [
       "Box(children=(Dropdown(description='Ticker', layout=Layout(width='12%'), options=('AAPL', 'BMW.DE', 'BTC-USD',…"
      ]
     },
     "metadata": {},
     "output_type": "display_data"
    },
    {
     "data": {
      "application/vnd.jupyter.widget-view+json": {
       "model_id": "02bda373a2f946cd9d72bd3025f92a1d",
       "version_major": 2,
       "version_minor": 0
      },
      "text/plain": [
       "Output()"
      ]
     },
     "metadata": {},
     "output_type": "display_data"
    }
   ],
   "source": [
    "def ma_cb_plot(Ticker, start5, step1, step2 ,t):\n",
    "    name = data_gral[\"name\"][data_gral[\"ticker\"] == Ticker].values[0]\n",
    "    letra = \"consolas\"\n",
    "    ax = True\n",
    "    fig = plt.figure(figsize=(20,11), linewidth = 5, edgecolor=\"#BFBFBF\")\n",
    "    fig.patch.set_facecolor('#00193E')\n",
    "    data2 = analysis_df.resample(f'1{t}').mean()[start5:]\n",
    "    \n",
    "    # Channels\n",
    "    CH1MI = data2[Ticker]['Close'].rolling(step1).min()\n",
    "    CH2MI = data2[Ticker]['Close'].rolling(step2).min()\n",
    "    CH1MA = data2[Ticker]['Close'].rolling(step1).max()\n",
    "    CH2MA = data2[Ticker]['Close'].rolling(step2).max()\n",
    "    \n",
    "    # Simpe Moving Averages\n",
    "    SMA1 = data2[Ticker]['Close'].rolling(step1).mean()\n",
    "    SMA2 = data2[Ticker]['Close'].rolling(step2).mean()\n",
    "    \n",
    "    best_sma = results_analysis_ticks[(results_analysis_ticks[\"ticker\"] == Ticker) & (results_analysis_ticks[\"OUT\"] > np.percentile(results_analysis_ticks[results_analysis_ticks[\"ticker\"] == Ticker][\"OUT\"], \n",
    "               80))].sort_values(\"OUT\", ascending = False)[[\"SMA1\",\"SMA2\",\"OUT\"]].iloc[:4,:].T.round(2)\n",
    "   \n",
    "    returns = data2[Ticker]['Close'].pct_change()\n",
    "    \n",
    "    # volat = np.round(data2.loc[:,(Ticker,'Close')].pct_change().describe().iloc[2]*100,1)\n",
    "    volat = np.round(returns.std()*100,2)    \n",
    "    volat_total = np.round(analysis_df.resample(f'1{t}').mean().loc[:,(Ticker,'Close')].pct_change().std()*100,2)\n",
    "    \n",
    "    if t == \"d\":\n",
    "        width = 1\n",
    "    else:\n",
    "        width = 1 / 24\n",
    "\n",
    "    if ax:\n",
    "        ax1 = plt.subplot(4,4,(1,7))\n",
    "        ax2 = plt.subplot(4,4,(9,15))\n",
    "        ax3 = plt.subplot(4,4,4)\n",
    "        ax4 = plt.subplot(4,4,8)\n",
    "        ax5 = plt.subplot(4,4,12)\n",
    "        ax6 = plt.subplot(4,4,16)\n",
    "\n",
    "        ax1.tick_params(colors = 'white')\n",
    "        ax2.tick_params(colors = 'white')\n",
    "        ax3.tick_params(colors = 'white')\n",
    "        ax4.tick_params(colors = 'white')\n",
    "        ax5.tick_params(colors = 'white')\n",
    "        ax6.tick_params(colors = 'white')\n",
    "    \n",
    "    if ax1:\n",
    "        ax1.set_title(f\"Channel Breakinig {step1} - {step2} Days  |  {name}\", \n",
    "                      font = letra,\n",
    "                      fontweight = \"bold\",\n",
    "                      fontsize=32,\n",
    "                      color = \"white\",\n",
    "                      pad = 20)\n",
    "        \n",
    "        ax1.set_ylabel(\"Close Price\", font = letra, color = \"white\")\n",
    "        ax1.plot(data2[(Ticker,\"Close\")], label=\"Close\", linewidth=3)\n",
    "\n",
    "        ax1.plot(CH1MI, \"--r\", label = f\"MIN_CH{step1}\")\n",
    "        ax1.plot(CH2MI, \"r\", label = f\"MIN_CH{step2}\")\n",
    "        \n",
    "        ax1.plot(CH1MA, \"--g\", label = f\"MAX_CH{step1}\")\n",
    "        ax1.plot(CH2MA, \"g\", label = f\"MAX_CH{step2}\")\n",
    "        \n",
    "        ax1.legend()\n",
    "        \n",
    "    if ax2:\n",
    "        ax2.set_title(f\"Moving Average {step1} - {step2} Days  |  {name}\",\n",
    "                      font = letra,\n",
    "                      fontweight = \"bold\",\n",
    "                      fontsize=32,\n",
    "                      color = \"white\",\n",
    "                      pad = 20)\n",
    "        \n",
    "        ax2.set_ylabel(\"Close Price\", font = letra, color = \"white\")   \n",
    "        \n",
    "        ax2.plot(data2[(Ticker,\"Close\")], label=\"Close\", linewidth=3)\n",
    "        ax2.fill_between(SMA2.index,\n",
    "                         SMA2,\n",
    "                         SMA1,\n",
    "                        alpha = 0.2,\n",
    "                        color = \"green\",\n",
    "                        where = SMA2 < SMA1)\n",
    "        \n",
    "        ax2.fill_between(SMA2.index,\n",
    "                         SMA2,\n",
    "                         SMA1,\n",
    "                        alpha = 0.2,\n",
    "                        color = \"red\",\n",
    "                        where = SMA2 > SMA1)\n",
    "        \n",
    "        ax2.plot(SMA1, \"--k\", label=f\"MA_{step1}\")\n",
    "        ax2.plot(SMA2, \"k\", label=f\"MA_{step2}\")\n",
    "        ax2.axvline(data2[Ticker][-30:].index[0], c=\"gray\", linestyle = \"dotted\", linewidth = 1)\n",
    "        ax2.legend()\n",
    "        \n",
    "        # ax2.annotate(\"Last 365 days\",xy=(data2[(Ticker,\"Close\")].index.min(),data2[(Ticker,\"Close\")].min()-8), annotation_clip = False,\n",
    "        #             color = \"w\", size = 14)\n",
    "        \n",
    "        #bbox=[x coord, y coord, ancho, alto]        \n",
    "        table = ax2.table(cellText = best_sma.values, rowLabels = best_sma.index, colLabels = [\"Last 365 days\",\"\",\"\",\"\",\"\"],\n",
    "                          cellLoc=\"center\", bbox=[0.25, -0.3, 0.6, 0.2], alpha = .8,\n",
    "                         cellColours = [[\"#EAEAF2\",\"#EAEAF2\",\"#EAEAF2\",\"#EAEAF2\"],\n",
    "                                        [\"#EAEAF2\",\"#EAEAF2\",\"#EAEAF2\",\"#EAEAF2\"],\n",
    "                                        [\"#EAEAF2\",\"#EAEAF2\",\"#EAEAF2\",\"#EAEAF2\"]],\n",
    "                         rowColours = [\"#EAEAF2\",\"#EAEAF2\",\"#EAEAF2\"],\n",
    "                         colColours = [\"#EAEAF2\",'#00193E','#00193E','#00193E'])\n",
    "        \n",
    "        table.auto_set_font_size(False)\n",
    "        table.set_fontsize(12)\n",
    "\n",
    "        try:\n",
    "            for j in range(len(operations_df.index[operations_df[\"ticker\"] == Ticker])):\n",
    "                if operations_df.index[operations_df[\"ticker\"] == Ticker][j] >= min(data2[Ticker][\"Close\"].index):\n",
    "                    ax2.axvline(operations_df.index[operations_df[\"ticker\"] == Ticker][j],\n",
    "                                       color=\"orange\", linestyle=\"dashed\", alpha = 0.6)\n",
    "    \n",
    "                    ax2.axhline(operations_df[\"operation_price\"][operations_df[\"ticker\"] == Ticker][j],\n",
    "                                       color=\"orange\", linestyle=\"dashed\", alpha = 0.6)\n",
    "        except:\n",
    "            pass\n",
    "       \n",
    "    if ax3:\n",
    "#         sns.distplot(returns, bins = 25, ax = ax4)\n",
    "#         ax4.set_xlim(returns.mean() - 2*returns.std(), \n",
    "#                  returns.mean() + 2*returns.std())\n",
    "       \n",
    "#         ax4.set_xlabel(\"Returns (%)\", color = \"white\")\n",
    "#         # ax4.set_ylabel(\"Density\", color = \"white\")\n",
    "#         ax4.patch.set_facecolor('#00193E')\n",
    "#         ax4.set_yticks([])\n",
    "#         ax4.spines[:].set_visible(False)\n",
    "#         ax4.grid(False)\n",
    "        ax3.annotate(f\"€ {np.int(data2[Ticker]['Close'][-1])}\",\n",
    "                     annotation_clip = False, xy=(0.05,0.35),\n",
    "                     font = letra,\n",
    "                     fontsize = 50,\n",
    "                     color = \"white\",multialignment = \"center\",\n",
    "                     alpha = 0.8,\n",
    "                     path_effects=[pe.withStroke(linewidth = 4, foreground = \"white\",alpha = 0.2)])\n",
    "        if returns[-1] >= 0:\n",
    "            ax3.annotate(f\"{returns[-1].round(2)} %\", annotation_clip = False, xy=(0.05,-0.25),\n",
    "                         font = letra,\n",
    "                         fontsize = 40,\n",
    "                         color = \"green\",multialignment = \"center\",\n",
    "                         path_effects=[pe.withStroke(linewidth = 4, foreground = \"white\",alpha = 0.2)])\n",
    "        else:\n",
    "            ax3.annotate(f\"{returns[-1].round(2)} %\", annotation_clip = False, xy=(0.05,-0.25),\n",
    "                         font = letra,\n",
    "                         fontsize = 40,\n",
    "                         color = \"red\",multialignment = \"center\",\n",
    "                         path_effects=[pe.withStroke(linewidth = 4, foreground = \"white\",alpha = 0.2)])\n",
    "            \n",
    "        ax3.set_title(\"Current Price\", font = letra, fontweight = \"bold\", fontsize=28, color = \"white\", y = 0.9)\n",
    "        ax3.set_axis_off()\n",
    "        \n",
    "    if ax4:\n",
    "        if strategy_df[strategy_df.index == Ticker]['returns_(eur)'][0] >= 0:\n",
    "            \n",
    "            ax4.annotate(f\"{strategy_df[strategy_df.index == Ticker]['returns_(%)'][0]} %\",\n",
    "                         annotation_clip = False, xy=(0.05,-0.25),\n",
    "                         font = letra,\n",
    "                         fontsize = 40,\n",
    "                         color = \"green\",multialignment = \"center\",\n",
    "                         alpha = 0.8,\n",
    "                         path_effects=[pe.withStroke(linewidth = 4, foreground = \"white\",alpha = 0.2)])\n",
    "            \n",
    "            ax4.annotate(f\"€ {int(strategy_df[strategy_df.index == Ticker]['returns_(eur)'][0])}\", annotation_clip = False, xy=(0.05,0.35),\n",
    "                         font = letra,\n",
    "                         fontsize = 50,\n",
    "                         color = \"green\",multialignment = \"center\",\n",
    "                         path_effects=[pe.withStroke(linewidth = 4, foreground = \"white\",alpha = 0.2)])\n",
    "        else:\n",
    "            ax4.annotate(f\"{strategy_df[strategy_df.index == Ticker]['returns_(%)'][0]} %\",\n",
    "                         annotation_clip = False, xy=(0.05,-0.25),\n",
    "                         font = letra,\n",
    "                         fontsize = 40,\n",
    "                         color = \"red\",multialignment = \"center\",\n",
    "                         alpha = 0.8,\n",
    "                         path_effects=[pe.withStroke(linewidth = 4, foreground = \"white\",alpha = 0.2)])\n",
    "            \n",
    "            ax4.annotate(f\"€ {int(strategy_df[strategy_df.index == Ticker]['returns_(eur)'][0])}\", annotation_clip = False, xy=(0.05,0.35),\n",
    "                         font = letra,\n",
    "                         fontsize = 50,\n",
    "                         color = \"red\",multialignment = \"center\",\n",
    "                         path_effects=[pe.withStroke(linewidth = 4, foreground = \"white\",alpha = 0.2)])\n",
    "\n",
    "        ax4.set_title(\"Returns\", font = letra, fontweight = \"bold\", fontsize=28, color = \"white\", y = 0.9)\n",
    "        ax4.set_axis_off()\n",
    "        \n",
    "    if ax5:\n",
    "#         ax5.patch.set_facecolor('#00193E')\n",
    "#         ax5.scatter(data2[Ticker]['Close'].rolling(30).std(),\n",
    "#                     returns)\n",
    "        \n",
    "#         ax5.set_xlabel(f\"Volatility 30d [%]\",color=\"w\")\n",
    "#         ax5.set_ylabel(\"Returns\",color=\"w\")         \n",
    "#         ax5.spines[:].set_visible(False)\n",
    "        # ax5.grid(False)\n",
    "        ax5.set_title(\"30 last days Volume\", font = letra, fontweight = \"bold\", fontsize=20, color = \"white\", y = 1)\n",
    "        up = data2[Ticker][-30:][data2.loc[:,(Ticker,\"Close\")] >= data2.loc[:,(Ticker,\"Open\")]]\n",
    "        down = data2[Ticker][-30:][data2.loc[:,(Ticker,\"Close\")] < data2.loc[:,(Ticker,\"Open\")]]\n",
    "        \n",
    "        ax5.bar(up.index, up.Volume, width, color='green', edgecolor=\"#00193E\")\n",
    "        ax5.bar(down.index, down.Volume, width, color='red', edgecolor=\"#00193E\")\n",
    "        ax5.set_ylabel(\"Volume\",font = letra, fontsize=15)\n",
    "        ax5.grid(False)\n",
    "        \n",
    "        data2[Ticker][-30:].Volume.diff().plot(ax=ax5, c=\"yellow\", linestyle = \"dashed\", linewidth = 2, label = \"Volume diff\")\n",
    "        ax5.axhline(data2[Ticker][-30:].Volume.mean(), c=\"w\", linestyle = \"dashed\", linewidth = 2, label = \"Volume mean\")\n",
    "        ax5.get_xaxis().set_visible(False)\n",
    "        ax5.get_yaxis().set_visible(False)\n",
    "        ax5.set_axis_off()\n",
    "        ax5.legend(loc= (0.58,-0.33))\n",
    "        \n",
    "        ax51 = ax5.twinx()\n",
    "        ax51.plot(data2[(Ticker,\"Close\")].diff(5), c=\"lightblue\", label=\"Momentum\", linewidth=1)\n",
    "        ax51.legend(loc= (0,-0.2))\n",
    "        ax51.grid(False)\n",
    "        ax51.set_axis_off()\n",
    "        \n",
    "    if ax6:\n",
    "        ax6.patch.set_facecolor('#00193E')\n",
    "        ax6.barh([\"Portfolio\", \"Total\",\"Period\"], [volatility_cartera,volat_total,volat],\n",
    "                  color = [\"brown\",\"red\",\"orange\"], edgecolor = '#00193E',\n",
    "                 alpha = 0.5)\n",
    "        ax6.spines[:].set_visible(False)\n",
    "        # ax6.set_xticks([0, 25, 50, 75, 100])\n",
    "        ax6.get_xaxis().set_visible(False)\n",
    "        ax6.grid(False)\n",
    "        ax6.set_xmargin(0.5)\n",
    "        ax6.set_title(\"Risk\", font = letra, fontsize = 28, fontweight = \"bold\", color = \"w\", pad = 5)\n",
    "\n",
    "        # ax5.annotate(f\"Period/global\", xy = (volat/volat_total*100-5, -0.3), fontsize = 18, annotation_clip = False)\n",
    "        ax6.annotate(f\"{volat}%\", xy = (np.max([volat,volat_total,volatility_cartera])+0.1*np.max([volat,volat_total,volatility_cartera]), 1.8), \n",
    "                     fontsize = 25, color = \"w\",\n",
    "                    path_effects=[pe.withStroke(linewidth = 3, foreground = \"white\",alpha = 0.1)], annotation_clip = False)\n",
    "        \n",
    "        ax6.annotate(f\"{volat_total}%\", xy = (np.max([volat,volat_total,volatility_cartera])+0.1*np.max([volat,volat_total,volatility_cartera]), 0.8)\n",
    "                     , fontsize = 25, color = \"w\",\n",
    "                    path_effects=[pe.withStroke(linewidth = 3, foreground = \"white\",alpha = 0.1)], annotation_clip = False) \n",
    "        \n",
    "        ax6.annotate(f\"{volatility_cartera}%\", xy = (np.max([volat,volat_total,volatility_cartera])+0.1*np.max([volat,volat_total,volatility_cartera]), -0.2),\n",
    "                     fontsize = 25, color = \"w\",\n",
    "                    path_effects=[pe.withStroke(linewidth = 3, foreground = \"white\",alpha = 0.1)], annotation_clip = False) \n",
    "        \n",
    "    plt.subplots_adjust(left=0.1,\n",
    "                    bottom=0.1, \n",
    "                    right=0.2, \n",
    "                    top=0.5, \n",
    "                    wspace=0.6, \n",
    "                    hspace=0.8)\n",
    "    fig.tight_layout()\n",
    "    plt.show()\n",
    "\n",
    "Ticker = widgets.Dropdown(options = analysis_ticks, description = \"Ticker\",\n",
    "                     style = {'description_width': 'initial'}, \n",
    "                          layout=widgets.Layout(width=\"12%\"))\n",
    "\n",
    "if inter2 == 3:\n",
    "    start5 = widgets.IntSlider(min = -len(analysis_df.resample(f'1d')), max = -10, step = 30, value = -365, description = \"Steps before\",\n",
    "                                      style = {'description_width': 'initial'},\n",
    "                                     layout=widgets.Layout(width=\"30%\"))\n",
    "elif inter2 == 2:\n",
    "    start5 = widgets.IntSlider(min = -len(analysis_df.resample(f'1h')), max = -1, step = 1, value = -5, description = \"Steps before\",\n",
    "                                      style = {'description_width': 'initial'},\n",
    "                                     layout=widgets.Layout(width=\"30%\"))\n",
    "else:\n",
    "    start5 = widgets.IntSlider(min = -len(analysis_df.resample(f'5m')), max = -1, step = 1, value = -1, description = \"Steps before\",\n",
    "                                      style = {'description_width': 'initial'},\n",
    "                                     layout=widgets.Layout(width=\"30%\"))\n",
    "\n",
    "step1 = widgets.IntSlider(min = 2, max = 22, step = 4 , value = 10, description = \"Step 1\", \n",
    "                          layout=widgets.Layout(width=\"23%\"))\n",
    "step2 = widgets.IntSlider(min = 10, max = 365, step = 10 , value = 40, description = \"Step 2\", \n",
    "                          layout=widgets.Layout(width=\"23%\"))\n",
    "\n",
    "t = widgets.Dropdown(options = [\"d\",\"h\",\"m\"], description = \"Prices Interval\",\n",
    "                     style = {'description_width': 'initial'}, \n",
    "                     layout=widgets.Layout(width=\"12%\"))\n",
    "\n",
    "ui = widgets.Box([Ticker, start5, step1, step2 ,t])\n",
    "out = widgets.interactive_output(ma_cb_plot, {'Ticker': Ticker, 'start5': start5, 'step1':step1, 'step2':step2, 't': t})\n",
    "display(ui,out)"
   ]
  },
  {
   "cell_type": "markdown",
   "id": "cae3c50f-880a-4d4d-97f7-085d793569af",
   "metadata": {
    "tags": []
   },
   "source": [
    "### 4. TESTS"
   ]
  },
  {
   "cell_type": "code",
   "execution_count": 16,
   "id": "48bf7937-d53e-462d-be67-19913be98f43",
   "metadata": {},
   "outputs": [],
   "source": [
    "# plt.bar(x = returns[start:].describe().iloc[2,:].index, height = returns[start:].describe().iloc[2,:])"
   ]
  },
  {
   "cell_type": "code",
   "execution_count": 17,
   "id": "37e790b3-f645-4532-bdd1-06da4c2ab307",
   "metadata": {},
   "outputs": [],
   "source": [
    "# returns[start:].describe().iloc[2,:].values"
   ]
  },
  {
   "cell_type": "code",
   "execution_count": 18,
   "id": "8e7c5be4-30d2-4098-81ee-18511092ad9c",
   "metadata": {},
   "outputs": [],
   "source": [
    "# sc = StandardScaler()\n",
    "# std_sc = sc.fit_transform(returns[start:].describe().iloc[2,:].values.reshape[-1,1])"
   ]
  },
  {
   "cell_type": "code",
   "execution_count": 19,
   "id": "59711ae9-1fb2-4ab1-89a6-aea2951b6926",
   "metadata": {},
   "outputs": [],
   "source": [
    "# colors = sns.color_palette('pastel')\n",
    "# plt.pie(returns[start:].describe().iloc[2,:], colors = colors)\n",
    "# plt.show()"
   ]
  },
  {
   "cell_type": "code",
   "execution_count": 20,
   "id": "3c0049b6-c52b-4d85-ab24-337de45669fa",
   "metadata": {},
   "outputs": [],
   "source": [
    "# strategy_df"
   ]
  },
  {
   "cell_type": "code",
   "execution_count": 21,
   "id": "487e7750-aabb-4e1d-8125-7484b283010e",
   "metadata": {
    "tags": []
   },
   "outputs": [],
   "source": [
    "# def dist_plot(Ticker, start = -120):\n",
    "#         sns.distplot(returns.loc[:,Ticker][start:])\n",
    "#         plt.show()\n",
    "\n",
    "# interact(dist_plot, Ticker = analysis_ticks,\n",
    "#         start = widgets.IntSlider(min = -360, max = -10, step = 15, value = -260))"
   ]
  },
  {
   "cell_type": "code",
   "execution_count": 22,
   "id": "6f2cb960-5d79-4889-81f8-3670214f4950",
   "metadata": {},
   "outputs": [],
   "source": [
    "# def desc_returns(start,Ticker):\n",
    "#     df = np.round(returns.iloc[start:,].describe().iloc[1:,:]*100,2)\n",
    "    \n",
    "#     fig, ax = plt.subplots(figsize = (10,5))\n",
    "#     ax.bar(x = df.loc['std',analysis_ticks].sort_values().index, \n",
    "#            height = df.loc['std',analysis_ticks].sort_values(), \n",
    "#            color= \"red\",\n",
    "#            alpha=0.4,\n",
    "#            edgecolor='black',\n",
    "#            )\n",
    "    \n",
    "#     ax.set_title(f\"Volatility last {-start} days\", fontsize = 23, pad = 15)\n",
    "    \n",
    "#     ax.set_ylabel(\"Returns's std [%]\")\n",
    "    \n",
    "#     # sns.distplot(returns.loc[:,Ticker][start:])\n",
    "#     plt.show()\n",
    "\n",
    "# interact(desc_returns, Ticker = analysis_ticks,\n",
    "#          start = widgets.IntSlider(min = -360, max = -10, step = 15, value = -260))"
   ]
  },
  {
   "cell_type": "code",
   "execution_count": 23,
   "id": "3930625c-14ec-49ba-b18e-bf5738687c31",
   "metadata": {
    "tags": []
   },
   "outputs": [],
   "source": [
    "# # VOLATILITY - RISK MEASURE\n",
    "# np.round(data2.loc[\"2021-03\":,(analysis_ticks,\"returns\")].std()*100,2)"
   ]
  },
  {
   "cell_type": "code",
   "execution_count": 24,
   "id": "f3ab53ef-a1a3-4fa3-bdfc-2502f8e60c99",
   "metadata": {},
   "outputs": [],
   "source": [
    "# corr_returns = data2.loc[:,(analysis_ticks,\"returns\")].droplevel(level = 1, axis=1).corr()\n",
    "# corr_returns = returns.corr()"
   ]
  },
  {
   "cell_type": "code",
   "execution_count": 25,
   "id": "17a2d80b-33f1-41a5-b34f-b8607629dfeb",
   "metadata": {},
   "outputs": [],
   "source": [
    "# fig,ax = plt.subplots(figsize=(12,8))\n",
    "# sns.heatmap(corr_returns, annot=True,cmap= 'coolwarm',annot_kws={'size': 12}, ax = ax)\n",
    "# ax.set_title(\"Returns\", fontsize = 25, pad = 20)\n",
    "\n",
    "# plt.show()"
   ]
  },
  {
   "cell_type": "code",
   "execution_count": 26,
   "id": "d8edf1d0-eaf5-4ceb-a3e9-c5685839fcd6",
   "metadata": {},
   "outputs": [],
   "source": [
    "# sns.pairplot(returns)\n",
    "# plt.show()"
   ]
  },
  {
   "cell_type": "markdown",
   "id": "1af7473d-9652-432f-aa59-56d781aaf899",
   "metadata": {
    "tags": []
   },
   "source": [
    "#### 4.0 INDICATORS"
   ]
  },
  {
   "cell_type": "code",
   "execution_count": 27,
   "id": "bf2192bd-014f-4441-97d1-b85c7d0529a5",
   "metadata": {},
   "outputs": [],
   "source": [
    "# recom_0 = yf.Ticker(analysis_ticks[0]).recommendations\n",
    "# recom_0[\"To Grade\"]"
   ]
  },
  {
   "cell_type": "code",
   "execution_count": 28,
   "id": "540da9bd-4480-425d-ae8d-40ae4e5d4172",
   "metadata": {},
   "outputs": [],
   "source": [
    "# np.round(recom_0[\"To Grade\"].value_counts()/recom_0[\"To Grade\"].value_counts().sum()*100,2)"
   ]
  },
  {
   "cell_type": "code",
   "execution_count": 29,
   "id": "394a46fc-387d-4ddb-842e-f837ec55e2eb",
   "metadata": {},
   "outputs": [],
   "source": [
    "# tic = inv.search_quotes(analysis_ticks[0], n_results=1)\n",
    "# tic.retrieve_technical_indicators(interval=\"daily\")"
   ]
  },
  {
   "cell_type": "code",
   "execution_count": 30,
   "id": "42f34785-aedc-4608-b708-0df59bd01f7c",
   "metadata": {
    "tags": []
   },
   "outputs": [],
   "source": [
    "# color_palette = sns.color_palette(\"vlag\", as_cmap=True)\n",
    "# np.round(data2.loc[\"2022-03\":,(analysis_ticks,\"Close\")],2).style.background_gradient(color_palette)"
   ]
  },
  {
   "cell_type": "code",
   "execution_count": 31,
   "id": "c028914a-4422-4e16-bc62-9a1247e6f054",
   "metadata": {
    "tags": []
   },
   "outputs": [],
   "source": [
    "# returns_d[\"2022-05\"].style.bar(color = ['#d65f5f', '#5fba7d'], align = 'mid')"
   ]
  },
  {
   "cell_type": "markdown",
   "id": "f78f4724-b123-4dc9-8967-5cfce6c9b289",
   "metadata": {
    "tags": []
   },
   "source": [
    "$\\mathbf{\\text{EPS = Earnings per share}}$<br>\n",
    "\n",
    "1.&emsp;Earnings per share (EPS) is calculated as a company's profit divided by the outstanding shares of its common stock. The resulting number serves as an indicator of a company's profitability. It is common for a company to report EPS that is adjusted for extraordinary items and potential share dilution.\n",
    "<br>\n",
    "\n",
    "$$ EpS = \\frac{End of Period Common Shares Outstanding - Net Income}{Preferred Dividends} $$"
   ]
  },
  {
   "cell_type": "code",
   "execution_count": 32,
   "id": "298a474d-291c-4099-88bb-38860ed4cd78",
   "metadata": {
    "tags": []
   },
   "outputs": [],
   "source": [
    "# si.get_cash_flow(\"MSFT\")"
   ]
  },
  {
   "cell_type": "code",
   "execution_count": 33,
   "id": "a3766107-7f4c-47cc-bfc0-aae1e3d0e0a5",
   "metadata": {
    "tags": []
   },
   "outputs": [],
   "source": [
    "# si.get_company_info(\"MSFT\")"
   ]
  },
  {
   "cell_type": "code",
   "execution_count": 34,
   "id": "1f984574-5501-4461-b7e5-3923ab6ac451",
   "metadata": {
    "tags": []
   },
   "outputs": [],
   "source": [
    "# si.get_analysts_info(\"MSFT\")"
   ]
  },
  {
   "cell_type": "code",
   "execution_count": 35,
   "id": "7931ce1a-f848-4f27-af62-72aa5bcfd5e0",
   "metadata": {},
   "outputs": [],
   "source": [
    "# si.get_earnings_history"
   ]
  }
 ],
 "metadata": {
  "kernelspec": {
   "display_name": "Python 3 (ipykernel)",
   "language": "python",
   "name": "python3"
  },
  "language_info": {
   "codemirror_mode": {
    "name": "ipython",
    "version": 3
   },
   "file_extension": ".py",
   "mimetype": "text/x-python",
   "name": "python",
   "nbconvert_exporter": "python",
   "pygments_lexer": "ipython3",
   "version": "3.10.4"
  },
  "toc-autonumbering": false,
  "toc-showcode": false,
  "toc-showmarkdowntxt": false,
  "toc-showtags": false
 },
 "nbformat": 4,
 "nbformat_minor": 5
}
