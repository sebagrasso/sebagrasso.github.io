{
 "cells": [
  {
   "cell_type": "markdown",
   "id": "03c849c0-428a-4a04-b751-565b335e61a2",
   "metadata": {
    "tags": []
   },
   "source": [
    "### 1. Header"
   ]
  },
  {
   "cell_type": "code",
   "execution_count": 1,
   "id": "5e8377f3-f6c8-4bc2-8edf-a042f50142ef",
   "metadata": {},
   "outputs": [
    {
     "name": "stdout",
     "output_type": "stream",
     "text": [
      "\n",
      "1. HISTORY\n",
      "\n",
      "---------------\n",
      "1.1 Header\n",
      "---------------\n",
      "\n"
     ]
    }
   ],
   "source": [
    "print(\"\"\"\n",
    "1. HISTORY\n",
    "\n",
    "---------------\n",
    "1.1 Header\n",
    "---------------\n",
    "\"\"\")"
   ]
  },
  {
   "cell_type": "markdown",
   "id": "9f808d53-b4cd-43c4-9699-3c40cb58793b",
   "metadata": {
    "tags": []
   },
   "source": [
    "#### 1.1 Import"
   ]
  },
  {
   "cell_type": "code",
   "execution_count": 2,
   "id": "9cd0c0f0",
   "metadata": {
    "code_folding": [
     0
    ],
    "tags": []
   },
   "outputs": [],
   "source": [
    "# IMPORT\n",
    "\n",
    "import pandas as pd\n",
    "import numpy as np\n",
    "\n",
    "import matplotlib.pyplot as plt\n",
    "import matplotlib.patheffects as pe\n",
    "import ipywidgets as widgets\n",
    "from ipywidgets import interact, IntProgress, Box, Label, Layout\n",
    "from IPython.display import display\n",
    "import seaborn as sns\n",
    "sns.set()\n",
    "\n",
    "import yfinance as yf\n",
    "import yahoo_fin.stock_info as si\n",
    "import investpy as inv\n",
    "\n",
    "import warnings\n",
    "warnings.filterwarnings(\"ignore\")\n",
    "import os\n",
    "\n",
    "import requests\n",
    "import time\n",
    "from datetime import date, datetime, timedelta\n",
    "import calendar\n",
    "import pytz\n",
    "\n",
    "from itertools import product\n",
    "from scipy import stats\n",
    "\n",
    "%matplotlib inline\n",
    "# plt.rcParams.keys()\n",
    "plt.rcParams[\"figure.figsize\"] = (15, 6)\n",
    "plt.rcParams[\"font.family\"] = \"consolas\"\n",
    "plt.rcParams['figure.facecolor'] = '#AFC4D4'\n",
    "\n",
    "from dash import Dash, html, dcc\n",
    "import plotly.express as px"
   ]
  },
  {
   "cell_type": "markdown",
   "id": "694eb050-92ad-4b10-9b74-2ac9c2b34d52",
   "metadata": {
    "tags": []
   },
   "source": [
    "#### 1.2 Flags"
   ]
  },
  {
   "cell_type": "code",
   "execution_count": 3,
   "id": "0dc214f9-0432-4467-ae86-aaac6d51da87",
   "metadata": {},
   "outputs": [
    {
     "name": "stdout",
     "output_type": "stream",
     "text": [
      "Not loading updated files\n",
      "Loading outdated files\n",
      "Updating History Data, only once today\n"
     ]
    }
   ],
   "source": [
    "###Flags2 used in other notebooks with priority\n",
    "## True if you want to import data downloaded previusly\n",
    "\n",
    "# FLAG LOADING SAVED FILES, CHECKING IF ARE UPDATED\n",
    "\n",
    "try:\n",
    "    flag_loading = flag_loading2\n",
    "except:\n",
    "    flag_loading = False\n",
    "    \n",
    "if flag_loading == True:\n",
    "    print(\"Trying to load updated files\")\n",
    "else:\n",
    "    print(\"Not loading updated files\")  \n",
    "\n",
    "# FLAG LOADING GLOBAL OUTDATED FILES\n",
    "try:\n",
    "    flag_loading_global = flag_loading_global2\n",
    "except:\n",
    "    flag_loading_global = True\n",
    "\n",
    "if flag_loading_global == True:\n",
    "    print(\"Loading outdated files\")\n",
    "else:\n",
    "    print(\"Not loading out of date files\") \n",
    "\n",
    "# FLAG TO UPDATE HISTORY DATE ONCE PER DAY OR MULTIPLE TIME PER DAY\n",
    "\n",
    "try:\n",
    "    flag_history_download = flag_history_download2\n",
    "except:\n",
    "    flag_history_download = False\n",
    "    \n",
    "if flag_history_download == True:\n",
    "    print(\"Updating History Data, dispite the date and time\")\n",
    "else:\n",
    "    print(\"Updating History Data, only once today\") "
   ]
  },
  {
   "cell_type": "code",
   "execution_count": 4,
   "id": "4fa1825c-768d-4e8d-84da-28e5e4efb2ad",
   "metadata": {},
   "outputs": [
    {
     "name": "stdout",
     "output_type": "stream",
     "text": [
      "History interval: 1 DAY\n"
     ]
    }
   ],
   "source": [
    "# History Prices Interval:\n",
    "\n",
    "try:\n",
    "    inter = inter2\n",
    "except:\n",
    "    inter = 3\n",
    "\n",
    "if inter == 1:\n",
    "    interval = \"5m\"\n",
    "    print(\"History interval: 5 MIN\")\n",
    "elif inter == 2:\n",
    "    interval = \"1h\"\n",
    "    print(\"History interval: 1 HOUR\")\n",
    "else:\n",
    "    interval = \"1d\"\n",
    "    print(\"History interval: 1 DAY\")"
   ]
  },
  {
   "cell_type": "markdown",
   "id": "3dbc7ec1-f5a5-444a-ba2a-c59e122bbfec",
   "metadata": {
    "tags": []
   },
   "source": [
    "#### 1.3 Operations Strategy and Market"
   ]
  },
  {
   "cell_type": "code",
   "execution_count": 5,
   "id": "1f803b91",
   "metadata": {
    "tags": []
   },
   "outputs": [
    {
     "name": "stdout",
     "output_type": "stream",
     "text": [
      "Last operations file loaded\n"
     ]
    }
   ],
   "source": [
    "# OPERATIONS DATAFRAME\n",
    "file = list(filter(lambda x: 'operations' in x, os.listdir(\"export/\")))\n",
    "\n",
    "try:\n",
    "    #if file exists, import it\n",
    "    operations_df = pd.read_csv(f\"export/{file[0]}\", index_col = \"Date\")\n",
    "    operations_df.index = pd.DatetimeIndex(operations_df.index, dayfirst =True)\n",
    "    operations_df = operations_df.sort_values(by=[\"Date\",\"ticker\"])\n",
    "    print(\"Last operations file loaded\")\n",
    "\n",
    "except:\n",
    "    print(\"There is a problem with operations import\")"
   ]
  },
  {
   "cell_type": "code",
   "execution_count": 6,
   "id": "b3e7a006-5992-4399-af4a-48e5af7f00f8",
   "metadata": {},
   "outputs": [
    {
     "name": "stdout",
     "output_type": "stream",
     "text": [
      "Last strategy file loaded\n"
     ]
    }
   ],
   "source": [
    "# STRATEGY DATAFRAME\n",
    "file = list(filter(lambda x: 'strategy' in x, os.listdir(\"export/\")))\n",
    "\n",
    "try:\n",
    "    #if file exists, import it\n",
    "    strategy_df = pd.read_csv(f\"export/{file[0]}\", index_col = \"ticker\")\n",
    "    print(\"Last strategy file loaded\")\n",
    "\n",
    "except:\n",
    "    print(\"There is a problem with strategy import\")"
   ]
  },
  {
   "cell_type": "code",
   "execution_count": 7,
   "id": "84143454-2926-4efe-ba37-9f92eb6bef2d",
   "metadata": {},
   "outputs": [
    {
     "name": "stdout",
     "output_type": "stream",
     "text": [
      "Market = portfolio_world_index_crypto_currencies_top1000_mcapT22022\n"
     ]
    }
   ],
   "source": [
    "market = \"portfolio_world_index_crypto_currencies_top1000_mcapT22022\"\n",
    "print(\"Market = portfolio_world_index_crypto_currencies_top1000_mcapT22022\")"
   ]
  },
  {
   "cell_type": "markdown",
   "id": "48c04c36",
   "metadata": {
    "jp-MarkdownHeadingCollapsed": true,
    "tags": []
   },
   "source": [
    "### 2. Functions"
   ]
  },
  {
   "cell_type": "code",
   "execution_count": 8,
   "id": "a98a60e2-2055-4e27-a37f-e5cc70de4626",
   "metadata": {
    "tags": []
   },
   "outputs": [
    {
     "data": {
      "text/html": [
       "\n",
       "<style>\n",
       ".p-Widget.jp-RenderedImage.jp-mod-trusted.jp-OutputArea-output {\n",
       "    display: table-cell;\n",
       "    text-align: center;\n",
       "    vertical-align: middle;\n",
       "}\n",
       "</style>\n"
      ],
      "text/plain": [
       "<IPython.core.display.HTML object>"
      ]
     },
     "execution_count": 8,
     "metadata": {},
     "output_type": "execute_result"
    }
   ],
   "source": [
    "## 1. CODIGO PARA ALINEAR GRAFICOS\n",
    "\n",
    "from IPython.core.display import HTML\n",
    "HTML(\"\"\"\n",
    "<style>\n",
    ".p-Widget.jp-RenderedImage.jp-mod-trusted.jp-OutputArea-output {\n",
    "    display: table-cell;\n",
    "    text-align: center;\n",
    "    vertical-align: middle;\n",
    "}\n",
    "</style>\n",
    "\"\"\")"
   ]
  },
  {
   "cell_type": "code",
   "execution_count": 9,
   "id": "063c7dbe-8e80-4dbf-bfe2-37a8f55ce954",
   "metadata": {},
   "outputs": [],
   "source": [
    "today = datetime.now().strftime(\"%d%b%Y\")"
   ]
  },
  {
   "cell_type": "code",
   "execution_count": 10,
   "id": "998fe29b-946d-48b1-9f86-800b2cd5324d",
   "metadata": {
    "code_folding": [
     1,
     4,
     30,
     42
    ],
    "tags": []
   },
   "outputs": [],
   "source": [
    "#FUNCTIONS\n",
    "def null_percent(table):\n",
    "    return round(table.isnull().sum()/table.shape[0]*100,1)\n",
    "\n",
    "def export(name,df):\n",
    "    today = datetime.now().strftime(\"%d%b%Y\")\n",
    "    \n",
    "    file = list(filter(lambda x: f\"{name}_\" in x, os.listdir(\"export/\")))\n",
    "    file2 = f\"{name}2_{today}.csv\"\n",
    "    df.to_csv(f\"export/{file2}\")\n",
    "    \n",
    "    if file == []:\n",
    "        #if file doesn't exists, save it and end of the story\n",
    "        os.rename(f\"export/{file2}\",f\"export/{name}_{today}.csv\")\n",
    "        return f\"{name} saved\"\n",
    "    \n",
    "    elif os.path.getsize(f\"export/{file[0]}\") != os.path.getsize(f\"export/{file2}\"):\n",
    "        #if file exists and sizes aren't same as new file, delete old file and rename new one\n",
    "        os.remove(f\"export/{file[0]}\")\n",
    "        os.rename(f\"export/{file2}\",f\"export/{name}_{today}.csv\")\n",
    "        return f\"{name} updated\"\n",
    "\n",
    "    elif file[0].find(today) == -1:\n",
    "        #if file exists and sizes same as new file, delete new file\n",
    "        os.remove(f\"export/{file[0]}\")\n",
    "        os.rename(f\"export/{file2}\",f\"export/{name}_{today}.csv\")\n",
    "        return f\"{name} updated\"\n",
    "\n",
    "    else:\n",
    "        os.remove(f\"export/{file2}\")\n",
    "        return \"Nothing saved\"\n",
    "\n",
    "def import_df_exists_date_tic(name):\n",
    "    file = list(filter(lambda x: name in x, os.listdir(\"export/\")))\n",
    "    today = datetime.now().strftime(\"%d%b%Y\")\n",
    "    \n",
    "    if file == []:        \n",
    "        return pd.DataFrame(), True, f\"There is no {name} file. We need to run main query again\"\n",
    "\n",
    "    elif (file[0].find(today) != -1):\n",
    "        try:\n",
    "            if (pd.read_csv(f\"export/{file[0]}\", index_col = [0])[\"ticker\"] == ticks).all() == True:\n",
    "                return pd.read_csv(f\"export/{file[0]}\", index_col = [0]), False, f\"{name} file loaded\"\n",
    "            else:\n",
    "                return pd.DataFrame(), True, f\"{name} file is not up to date or not correspond to current analysis. We need to run main query again\"\n",
    "        except:\n",
    "            return pd.DataFrame(), True, f\"{name} file is not up to date or not correspond to current analysis. We need to run main query again\"\n",
    "\n",
    "    elif (file[0].find(today) == -1):\n",
    "            return pd.DataFrame(), True, f\"{name} file is not up to date or not correspond to current analysis. We need to run main query again\"\n",
    "\n",
    "    else:\n",
    "        return pd.DataFrame(), True, f\"There is a problem with {name} file import\"\n",
    "\n",
    "def import_df_exists_date(name):\n",
    "    file = list(filter(lambda x: name in x, os.listdir(\"export/\")))\n",
    "    today = datetime.now().strftime(\"%d%b%Y\")\n",
    "    \n",
    "    if file == []:        \n",
    "        return pd.DataFrame(), True, f\"There is no {name} file. We need to run main query again\"\n",
    "\n",
    "    elif (file[0].find(today) != -1):\n",
    "            return pd.read_csv(f\"export/{file[0]}\", index_col = [0]), False, f\"{name} file loaded\"\n",
    "\n",
    "    elif (file[0].find(today) == -1):\n",
    "            return pd.DataFrame(), True, f\"{name} file is not up to date. We need to run main query again\"\n",
    "\n",
    "    else:\n",
    "        return pd.DataFrame(), True, f\"There is a problem with {name} file import\"\n",
    "\n",
    "def print_full(x):\n",
    "    pd.set_option(\"display.max_rows\", len(x))\n",
    "    print(x)\n",
    "    pd.reset_option(\"display.max_rows\")\n",
    "\n",
    "def outliers_sigma(df, n_sigmas=3):\n",
    "    \"\"\"\n",
    "    Function that eliminates outliers beyond n_sigmas*standard desviation.\n",
    "    It Returns:\n",
    "        * df output (fills outliers with min and max without them)\n",
    "        * df with filtered values\n",
    "        * rango_min (array)\n",
    "        * rango_max (array)\n",
    "    \"\"\"\n",
    "    \n",
    "    mu = np.array(np.mean(df))\n",
    "    sigma = np.array(np.std(df))\n",
    "    \n",
    "    high = df[df < mu + n_sigmas * sigma]\n",
    "    high.fillna(np.max(high), inplace = True)\n",
    "    \n",
    "    low = high[high > mu - n_sigmas * sigma]\n",
    "    low.fillna(np.min(low), inplace = True)\n",
    "    \n",
    "    # return df[(df < mu + n_sigmas * sigma) & (df > mu - n_sigmas * sigma)], df[(df > mu + n_sigmas * sigma) | (df < mu - n_sigmas * sigma)], mu - n_sigmas * sigma, mu + n_sigmas * sigma \n",
    "    return low, df[(df > mu + n_sigmas * sigma) | (df < mu - n_sigmas * sigma)], mu - n_sigmas * sigma, mu + n_sigmas * sigma \n",
    "\n",
    "def outliers_iqr(df):\n",
    "    \"\"\"\n",
    "    Function that eliminates outliers beyond 1.5 interquartile range.\n",
    "    It Returns:\n",
    "        * df output (fills outliers with min and max without them)\n",
    "        * df with filtered values\n",
    "        * rango_min (array)\n",
    "        * rango_max (array)\n",
    "    \"\"\"\n",
    "    q1 = np.nanpercentile(df,q=25,axis=0)\n",
    "    q3 = np.nanpercentile(df,q=75,axis=0)\n",
    "    \n",
    "    rango_min = q1 - 1.5*(q3-q1)\n",
    "    rango_max = q3 + 1.5*(q3-q1)\n",
    "    \n",
    "    high = df[df < rango_max]\n",
    "    high.fillna(np.max(high), inplace = True)\n",
    "    \n",
    "    low = high[high > rango_min]\n",
    "    low.fillna(np.min(low), inplace = True)\n",
    "    \n",
    "    return low, df[(df > rango_max) | (df < rango_min)], rango_min, rango_max\n",
    "\n",
    "def prog_bar(part, collection, label = \"Processing\", it = \"\", labelwidth = \"20%\", barwidth = \"25%\", barcolor = \"purple\"):\n",
    "    \"\"\"\n",
    "    Purple progress bar\n",
    "    Input:\n",
    "        * The code has two parts, one before and the other after the loop.\n",
    "        * The collection needed to make proportion of progress, from 0 to 100%.\n",
    "        * Label of the bar as a string. Example: \"Processing Stats\"\n",
    "        * Iteration element from collection\n",
    "        * Label width in string percentage. Ex. \"20%\"\n",
    "        * Bar width in string percentage. Ex. \"25%\"\n",
    "        * Bar Color. Ex. \"Purple\"\n",
    "    \"\"\"\n",
    "    global c\n",
    "    global progress_bar\n",
    "    if part == 1:\n",
    "        c = 0\n",
    "        label = widgets.Label(f'{label} --> ', layout=widgets.Layout(width = labelwidth))\n",
    "        try:\n",
    "            progress_bar = IntProgress(min=0,max=collection, style = {'description_width': 'initial'}, \n",
    "                                   layout=widgets.Layout(width = barwidth))\n",
    "        except:\n",
    "            progress_bar = IntProgress(min=0,max=len(collection), style = {'description_width': 'initial'}, \n",
    "                                   layout=widgets.Layout(width = barwidth))\n",
    "        progress_bar.style.bar_color = barcolor\n",
    "        return display(widgets.Box(children=[label,progress_bar]))\n",
    "    elif part == 2:\n",
    "        c += 1\n",
    "        progress_bar.value += 1\n",
    "        try:\n",
    "            progress_bar.description = f\"{it}  ({int((c/collection*100))}%)\"\n",
    "        except:\n",
    "            progress_bar.description = f\"{it}  ({int((c/len(collection)*100))}%)\"\n",
    "    else:\n",
    "        print(\"There is an error with the indicated part\")"
   ]
  },
  {
   "cell_type": "markdown",
   "id": "7f27edcc-c3a8-4c9e-a53d-0dd2d199b477",
   "metadata": {
    "jp-MarkdownHeadingCollapsed": true,
    "tags": []
   },
   "source": [
    "### 3. Files Loading"
   ]
  },
  {
   "cell_type": "code",
   "execution_count": 11,
   "id": "5ff7537e-f54d-4c2e-85d3-b9b3ac30c45c",
   "metadata": {},
   "outputs": [
    {
     "name": "stdout",
     "output_type": "stream",
     "text": [
      "\n",
      "---------------\n",
      "1.2 Files Loading\n",
      "---------------\n",
      "\n"
     ]
    }
   ],
   "source": [
    "print(\"\"\"\n",
    "---------------\n",
    "1.2 Files Loading\n",
    "---------------\n",
    "\"\"\")"
   ]
  },
  {
   "cell_type": "markdown",
   "id": "7fa402dc-c4d8-4066-aeaf-ae00de4c0956",
   "metadata": {
    "tags": []
   },
   "source": [
    "#### 3.1 History Data"
   ]
  },
  {
   "cell_type": "code",
   "execution_count": 12,
   "id": "88ff104d-aa82-4039-82c3-822f7bd7fe4c",
   "metadata": {},
   "outputs": [
    {
     "name": "stdout",
     "output_type": "stream",
     "text": [
      "HISTORY loaded\n",
      "flag_history: True\n"
     ]
    }
   ],
   "source": [
    "# HISTORY DATA DATAFRAME IMPORT \n",
    "try:\n",
    "    name = f\"{market}_history\"\n",
    "    file = list(filter(lambda x: name in x, os.listdir(\"export/\")))\n",
    "    data1, msg = pd.read_csv(f\"export/{file[0]}\", index_col = [0], header=[0,1],infer_datetime_format=True), f\"HISTORY loaded\"\n",
    "    print(msg)\n",
    "    last_date = data1.index[-1]\n",
    "    # last_date_start = data1.index[-30]\n",
    "    # last_date_start = (datetime.strptime(last_date,\"%Y-%m-%d\")+timedelta(days=1)).strftime(\"%Y-%m-%d\")\n",
    "    data1.index = pd.to_datetime(data1.index)\n",
    "    \n",
    "    if flag_history_download:\n",
    "        flag_history = True\n",
    "\n",
    "    elif last_date == datetime.now().strftime(\"%Y-%m-%d\"):\n",
    "        flag_history = False\n",
    "    \n",
    "    else:\n",
    "        flag_history = True\n",
    "    print(f\"flag_history: {flag_history}\")\n",
    "\n",
    "except:\n",
    "    if flag_history_download:\n",
    "        flag_history = True\n",
    "    else:\n",
    "        flag_history = False\n",
    "        print(f\"flag_history: {flag_history}\")"
   ]
  },
  {
   "cell_type": "markdown",
   "id": "cf57981e-e6b4-4424-b5d8-3656022d78a0",
   "metadata": {
    "tags": []
   },
   "source": [
    "#### 3.2 Gral Data"
   ]
  },
  {
   "cell_type": "code",
   "execution_count": 13,
   "id": "e1b5ba93-2a7c-453c-b3e1-36a2a43f36a3",
   "metadata": {},
   "outputs": [
    {
     "name": "stdout",
     "output_type": "stream",
     "text": [
      "GRAL DATA file loaded\n"
     ]
    }
   ],
   "source": [
    "# GENERAL DATA DATAFRAME IMPORT  \n",
    "name = f\"{market}_gral\"\n",
    "file = list(filter(lambda x: name in x, os.listdir(\"export/\")))\n",
    "data_gral, flag_gral, msg = pd.read_csv(f\"export/{file[0]}\", index_col = [0]), False, f\"GRAL DATA file loaded\"\n",
    "print(msg)"
   ]
  },
  {
   "cell_type": "markdown",
   "id": "630336db-e966-4722-903e-ac72c52245c0",
   "metadata": {
    "tags": []
   },
   "source": [
    "#### 3.3 Stats Data"
   ]
  },
  {
   "cell_type": "code",
   "execution_count": 14,
   "id": "3659d3c0",
   "metadata": {
    "code_folding": [
     0
    ]
   },
   "outputs": [
    {
     "name": "stdout",
     "output_type": "stream",
     "text": [
      "Oudated STATS loaded\n"
     ]
    }
   ],
   "source": [
    "# STATS DATAFRAME IMPORT\n",
    "if flag_loading:\n",
    "    data_stats, flag_stats, msg = import_df_exists_date_tic(f\"{market}_stats\")\n",
    "    print(msg)\n",
    "\n",
    "elif flag_loading_global:\n",
    "    name = f\"{market}_stats\"\n",
    "    file = list(filter(lambda x: name in x, os.listdir(\"export/\")))\n",
    "    data_stats = pd.read_csv(f\"export/{file[0]}\", index_col = [0])\n",
    "    print(\"Oudated STATS loaded\")\n",
    "    flag_stats = False\n",
    "\n",
    "else:\n",
    "    flag_stats = True"
   ]
  },
  {
   "cell_type": "code",
   "execution_count": 15,
   "id": "e83dbc9d",
   "metadata": {
    "code_folding": [
     0
    ]
   },
   "outputs": [
    {
     "name": "stdout",
     "output_type": "stream",
     "text": [
      "Oudated STATS_VAL loaded\n"
     ]
    }
   ],
   "source": [
    "# STATS VAL DATAFRAME IMPORT\n",
    "if flag_loading:\n",
    "    data_stats_val, flag_stats_val, msg = import_df_exists_date_tic(f\"{market}_stats_val\")\n",
    "    print(msg)\n",
    "    \n",
    "elif flag_loading_global:\n",
    "    name = f\"{market}_stats_val\"\n",
    "    file = list(filter(lambda x: name in x, os.listdir(\"export/\")))    \n",
    "    data_stats_val = pd.read_csv(f\"export/{file[0]}\", index_col = [0])\n",
    "    print(\"Oudated STATS_VAL loaded\")\n",
    "    flag_stats_val = False\n",
    "    \n",
    "else:\n",
    "    flag_stats_val = True\n",
    "\n",
    "flag_stats_val = False"
   ]
  },
  {
   "cell_type": "markdown",
   "id": "26f76147-5b7b-4fd9-9bce-c8c4d707819a",
   "metadata": {
    "tags": []
   },
   "source": [
    "#### 3.4 Earnings Data"
   ]
  },
  {
   "cell_type": "code",
   "execution_count": 16,
   "id": "524a2087",
   "metadata": {
    "code_folding": [
     0
    ]
   },
   "outputs": [
    {
     "name": "stdout",
     "output_type": "stream",
     "text": [
      "Oudated EARNINGS loaded\n"
     ]
    }
   ],
   "source": [
    "# EARNINGS DATA DATAFRAME IMPORT \n",
    "if flag_loading:\n",
    "    data_eps, flag_eps, msg = import_df_exists_date(f\"{market}_eps\")\n",
    "    print(msg)\n",
    "    \n",
    "elif flag_loading_global:\n",
    "    name = f\"{market}_eps\"\n",
    "    file = list(filter(lambda x: name in x, os.listdir(\"export/\")))      \n",
    "    data_eps = pd.read_csv(f\"export/{file[0]}\", index_col = [0])\n",
    "    print(\"Oudated EARNINGS loaded\")\n",
    "    flag_eps = False\n",
    "        \n",
    "else:\n",
    "    flag_eps = True"
   ]
  },
  {
   "cell_type": "markdown",
   "id": "d0c08dd7-b6c0-4095-9d0f-c77d23b109e6",
   "metadata": {
    "jp-MarkdownHeadingCollapsed": true,
    "tags": []
   },
   "source": [
    "### 4. Tickers"
   ]
  },
  {
   "cell_type": "code",
   "execution_count": 17,
   "id": "fad4069e-d141-4057-90c4-244455b0baec",
   "metadata": {},
   "outputs": [],
   "source": [
    "# ticks = data1.columns.get_level_values(level=0).unique()\n",
    "\n",
    "# np.savetxt(\"1150ticks.txt\",ticks,delimiter=\",\",fmt=\"%s\")\n",
    "# np.loadtxt(\"tickers/1150ticks.txt\", dtype = \"str\")\n",
    "ticks = pd.read_csv(\"tickers/1150ticks.txt\",header = None).values.flatten()"
   ]
  },
  {
   "cell_type": "code",
   "execution_count": 18,
   "id": "42dc4415-777c-464c-bafe-089fc70998a4",
   "metadata": {},
   "outputs": [],
   "source": [
    "data_gral_top1000 = pd.read_csv(\"export/top1000_mcapT22022_gral_05Jun2022.csv\").iloc[:,1:]\n",
    "tickers = pd.concat([pd.Series(operations_df[\"ticker\"].unique()),pd.read_csv(\"tickers/tickers.csv\", index_col = [0])],axis=1).iloc[:,1:]\n",
    "\n",
    "# REMOVE DELISTED TICKERS\n",
    "delisted_tics = pd.read_csv(\"tickers/delisted_tics.txt\")\n",
    "tickers = tickers[tickers.isin(delisted_tics.values.flatten()) == False]\n",
    "del delisted_tics"
   ]
  },
  {
   "cell_type": "markdown",
   "id": "31b1ae5f-e8ac-4d65-8c9f-282d65a810a0",
   "metadata": {
    "tags": []
   },
   "source": [
    "### 5. Data Download"
   ]
  },
  {
   "cell_type": "code",
   "execution_count": 18,
   "id": "2bda5177-9b47-4c58-8b9e-cef53a79b7cb",
   "metadata": {},
   "outputs": [
    {
     "name": "stdout",
     "output_type": "stream",
     "text": [
      "\n",
      "---------------\n",
      "1.3 Data Download\n",
      "---------------\n",
      "\n"
     ]
    }
   ],
   "source": [
    "print(\"\"\"\n",
    "---------------\n",
    "1.3 Data Download\n",
    "---------------\n",
    "\"\"\")"
   ]
  },
  {
   "cell_type": "markdown",
   "id": "071acc23",
   "metadata": {
    "tags": []
   },
   "source": [
    "#### 5.1 Stats Data"
   ]
  },
  {
   "cell_type": "code",
   "execution_count": 19,
   "id": "40e90042",
   "metadata": {
    "code_folding": [
     0
    ],
    "tags": []
   },
   "outputs": [
    {
     "name": "stdout",
     "output_type": "stream",
     "text": [
      "Stats data already gotten or not needed\n"
     ]
    }
   ],
   "source": [
    "#STATS DATA GATHERING\n",
    "\n",
    "now1 = datetime.now()\n",
    "if flag_stats:\n",
    "    data_stats = pd.DataFrame()\n",
    "    \n",
    "    c = 0\n",
    "    prog_bar(1, ticks, label = \"Processing Stats\", it = \"\", labelwidth = \"15%\", barwidth = \"25%\", barcolor = \"purple\")\n",
    "    \n",
    "    for tic in ticks:\n",
    "        prog_bar(2, ticks, it = tic)\n",
    "\n",
    "        # get stats\n",
    "        try:\n",
    "            df2 = si.get_stats(tic).set_index(0,drop=True).T.reset_index(drop = True)\n",
    "            df2.insert(0,\"ticker\",tic)\n",
    "            df2.columns.name = \"\"\n",
    "            data_stats = pd.concat([data_stats,df2], axis = 0)\n",
    "        except:\n",
    "            pass\n",
    "        try:\n",
    "            df2 = si.get_stats(tic).set_index(\"Attribute\",drop=True).T.reset_index(drop = True)\n",
    "            df2.insert(0,\"ticker\",tic)\n",
    "            df2.columns.name = \"\"\n",
    "            data_stats = pd.concat([data_stats,df2], axis = 0)\n",
    "        except:\n",
    "            print(f\"{tic}'s Stats not working....\")\n",
    "    \n",
    "    try:\n",
    "        data_stats.reset_index(drop=True, inplace=True)\n",
    "    except:\n",
    "        pass\n",
    "    \n",
    "    now2 = datetime.now()\n",
    "    delta = now2 - now1\n",
    "    print(f\"Stats Downloaded! - Process time: {delta.seconds} seconds ({np.round(delta.seconds / 60,2)} minutes)\")\n",
    "    \n",
    "    try:\n",
    "        del df2, c, delta, now1, now2\n",
    "    except:\n",
    "        pass\n",
    "else:\n",
    "    print(\"Stats data already gotten or not needed\")"
   ]
  },
  {
   "cell_type": "code",
   "execution_count": 20,
   "id": "0a40ae89",
   "metadata": {
    "code_folding": [
     0
    ],
    "tags": []
   },
   "outputs": [
    {
     "name": "stdout",
     "output_type": "stream",
     "text": [
      "Stats Val data already gotten or not needed\n"
     ]
    }
   ],
   "source": [
    "#STATS VALUATION DATA GATHERING\n",
    "now1 = datetime.now()\n",
    "if flag_stats_val:\n",
    "    data_stats_val = pd.DataFrame()\n",
    "    prog_bar(1, ticks, label = \"Processing Stats Valuation\", it = \"\", labelwidth = \"20%\", barwidth = \"25%\", barcolor = \"purple\")\n",
    " \n",
    "    for tic in ticks:\n",
    "        prog_bar(2, ticks, it = tic)\n",
    "        \n",
    "        # get stats valuation        \n",
    "        try:\n",
    "            df = si.get_stats_valuation(tic).set_index(0,drop=True).T.reset_index(drop = True)\n",
    "            df.insert(0,\"ticker\",tic)\n",
    "            df.columns.name = \"\"\n",
    "            data_stats_val = pd.concat([data_stats_val,df], axis = 0)\n",
    "        except:\n",
    "            print(f\"{tic}'s stats valuation not working...\")\n",
    "            # # if it not works, add a zero row for that ticker\n",
    "            # row = pd.DataFrame([[0]*data_stats_val.shape[1]], columns=data_stats_val.columns)\n",
    "            # row[\"ticker\"] = tic\n",
    "            # data_stats_val = data_stats_val.append(row, ignore_index=True)\n",
    "    \n",
    "    try:\n",
    "        data_stats_val.reset_index(drop=True, inplace=True)\n",
    "    except:\n",
    "        pass\n",
    "    \n",
    "    data_stats_val = data_stats_val.dropna(how =\"all\", subset = data_stats_val.columns[1:])\n",
    "    now2 = datetime.now()\n",
    "    delta = now2 - now1\n",
    "    print(f\"Stats Val Downloaded! - Process time: {delta.seconds} seconds ({np.round(delta.seconds / 60,2)} minutes)\")\n",
    "    try:\n",
    "        del row, c, df, delta, now1, now2\n",
    "    except:\n",
    "        pass\n",
    "else:\n",
    "    print(\"Stats Val data already gotten or not needed\")"
   ]
  },
  {
   "cell_type": "markdown",
   "id": "09b1d1a7-541a-4d40-ae2f-e7446402c488",
   "metadata": {
    "jp-MarkdownHeadingCollapsed": true,
    "tags": []
   },
   "source": [
    "#### 5.2 General Data"
   ]
  },
  {
   "cell_type": "code",
   "execution_count": 21,
   "id": "1a5649de-ee76-4eab-a8fa-b36e45aea0e0",
   "metadata": {
    "tags": []
   },
   "outputs": [
    {
     "name": "stdout",
     "output_type": "stream",
     "text": [
      "General data already gotten\n"
     ]
    }
   ],
   "source": [
    "#GENERAL DATA GATHERING\n",
    "now1 = datetime.now()\n",
    "if flag_gral:\n",
    "    # try:\n",
    "    #     ticks2 = list(ticks)\n",
    "    #     ticks2.remove(\"EURUSD\")\n",
    "    # except ValueError:\n",
    "    #     ticks2 = list(ticks)\n",
    "    \n",
    "    data_gral = pd.DataFrame.from_dict({\"ticker\":ticks})\n",
    "    name = []\n",
    "    exchange = []\n",
    "    country = []\n",
    "    currency = []\n",
    "    sector = []\n",
    "    industry = []\n",
    "    market2 = []\n",
    "    marketcap = []\n",
    "    \n",
    "    prog_bar(1, ticks, label = \"Processing General data\", it = \"\", labelwidth = \"20%\", barwidth = \"25%\", barcolor = \"purple\")\n",
    "\n",
    "    for tic in ticks:\n",
    "        prog_bar(2, ticks, it = tic)\n",
    "        try:\n",
    "            # temp = si.get_quote_data(tic)\n",
    "            temp = yf.Ticker(tic).get_info()\n",
    "        except:\n",
    "            print(f\"{tic}'s quote_data not working...\")\n",
    "        try:\n",
    "            # data_gral[\"name\"][data_gral[\"ticker\"] == tic] = temp['shortName']\n",
    "            name.append(temp['shortName'])\n",
    "        except:\n",
    "            name.append(np.nan)\n",
    "            print(f\"{tic}'s shortName not working...\")\n",
    "    \n",
    "        try:\n",
    "            # data_gral[\"exchange\"][data_gral[\"ticker\"] == tic] = temp[\"fullExchangeName\"]\n",
    "            exchange.append(temp['exchange'])\n",
    "        except:\n",
    "            exchange.append(np.nan)\n",
    "            print(f\"{tic}'s exchange not working...\")\n",
    "            \n",
    "        try:\n",
    "            # data_gral[\"country\"][data_gral[\"ticker\"] == tic] = temp['market'].split(\"_\")[0]\n",
    "            country.append(temp['market'].split(\"_\")[0])\n",
    "        except:\n",
    "            country.append(np.nan)\n",
    "            print(f\"{tic}'s country not working...\")\n",
    "            \n",
    "        try:\n",
    "            # data_gral[\"currency\"][data_gral[\"ticker\"] == tic] = temp['currency']\n",
    "            currency.append(temp['currency'])\n",
    "        except:\n",
    "            currency.append(np.nan)\n",
    "            print(f\"{tic}'s currency not working...\")\n",
    "\n",
    "        try:\n",
    "            # data_gral[\"currency\"][data_gral[\"ticker\"] == tic] = temp['currency']\n",
    "            sector.append(temp['sector'])\n",
    "        except:\n",
    "            sector.append(np.nan)\n",
    "            print(f\"{tic}'s sector not working...\")\n",
    "            \n",
    "        try:\n",
    "            # data_gral[\"currency\"][data_gral[\"ticker\"] == tic] = temp['currency']\n",
    "            industry.append(temp['industry'])\n",
    "        except:\n",
    "            industry.append(np.nan)\n",
    "            print(f\"{tic}'s industry not working...\")\n",
    "            \n",
    "        try:\n",
    "            # data_gral[\"currency\"][data_gral[\"ticker\"] == tic] = temp['currency']\n",
    "            market2.append(temp['market'])\n",
    "        except:\n",
    "            market2.append(np.nan)\n",
    "            print(f\"{tic}'s market not working...\")\n",
    "            \n",
    "        try:\n",
    "            # data_gral[\"currency\"][data_gral[\"ticker\"] == tic] = temp['currency']\n",
    "            marketcap.append(temp['marketCap'])\n",
    "        except:\n",
    "            marketcap.append(np.nan)\n",
    "            print(f\"{tic}'s marketCap not working...\")\n",
    "    \n",
    "    data_gral = pd.concat([data_gral,\n",
    "                           pd.Series(name),\n",
    "                           pd.Series(exchange),\n",
    "                           pd.Series(country),\n",
    "                           pd.Series(currency),\n",
    "                           pd.Series(sector),\n",
    "                           pd.Series(industry),\n",
    "                           pd.Series(market2),\n",
    "                           pd.Series(marketcap)],axis=1)\n",
    "    \n",
    "    data_gral.columns = [\"ticker\", \"name\", \"exchange\", \"country\", \"currency\", \"sector\", \"industry\", \"market\", \"marketcap\"]\n",
    "\n",
    "    now2 = datetime.now()\n",
    "    delta = now2 - now1\n",
    "    print(f\"General Data Downloaded! - Process time: {delta.seconds} seconds ({np.round(delta.seconds / 60,2)} minutes)\")\n",
    "    try:\n",
    "        del temp, c, delta, now1, now2\n",
    "    except:\n",
    "        pass\n",
    "\n",
    "else:\n",
    "    print(\"General data already gotten\")"
   ]
  },
  {
   "cell_type": "code",
   "execution_count": 22,
   "id": "8481cf79-fbd4-43a7-9eff-216d497ae38e",
   "metadata": {
    "tags": []
   },
   "outputs": [],
   "source": [
    "#### GET TYPE OF TICKER: INDEX, CURRENCIES, EQUITY\n",
    "# quotetype = {}\n",
    "# prog_bar(1, ticks, label = \"Processing General data\", it = \"\", labelwidth = \"20%\", barwidth = \"25%\", barcolor = \"purple\")\n",
    "\n",
    "# for tic in ticks:\n",
    "#     prog_bar(2, ticks, it = tic)    \n",
    "#     try:\n",
    "#         temp = yf.Ticker(tic).get_info()\n",
    "#         quotetype[tic] = temp[\"quoteType\"]\n",
    "        \n",
    "#     except:\n",
    "#         print(f\"{tic} quotetype not found\")\n",
    "#         quotetype[tic] = \"undef\"\n",
    "\n",
    "# quotetype_df = pd.DataFrame.from_dict(quotetype, orient=\"index\").reset_index()\n",
    "# quotetype_df.columns = [\"ticker\",\"quotetype\"]\n",
    "\n",
    "# data_gral = pd.merge(data_gral,quotetype_df,how=\"left\",on=\"ticker\")"
   ]
  },
  {
   "cell_type": "markdown",
   "id": "492cab9d",
   "metadata": {
    "tags": []
   },
   "source": [
    "#### 5.3 History Data"
   ]
  },
  {
   "cell_type": "code",
   "execution_count": 23,
   "id": "ead8c73b-cc72-44da-8017-dc48b7d594a4",
   "metadata": {},
   "outputs": [
    {
     "name": "stdout",
     "output_type": "stream",
     "text": [
      "EUR-USD downloaded\n"
     ]
    }
   ],
   "source": [
    "# EUR-USD CONVERSION\n",
    "eurusd = yf.Ticker(\"EURUSD=X\").history(period='10y', rounding=True).iloc[:,:-3]\n",
    "eurusd = pd.concat([pd.DataFrame(pd.date_range(start = eurusd.index.min(), end = today)).set_index(0),eurusd],\n",
    "                   axis=1, join=\"outer\").pad()\n",
    "eurusd.index.name = \"Date\"\n",
    "print(\"EUR-USD downloaded\")"
   ]
  },
  {
   "cell_type": "code",
   "execution_count": 61,
   "id": "8b24e52e",
   "metadata": {
    "tags": []
   },
   "outputs": [
    {
     "data": {
      "application/vnd.jupyter.widget-view+json": {
       "model_id": "0e4f48c11f5f4793b80a53d9d005f5dd",
       "version_major": 2,
       "version_minor": 0
      },
      "text/plain": [
       "Box(children=(Label(value='Processing Prices --> ', layout=Layout(width='12%')), IntProgress(value=0, layout=L…"
      ]
     },
     "metadata": {},
     "output_type": "display_data"
    },
    {
     "name": "stdout",
     "output_type": "stream",
     "text": [
      "History Downloaded! - Process time: 303 seconds (5.05 minutes)\n"
     ]
    }
   ],
   "source": [
    "#MAIN DATA GATHERING\n",
    "now1 = datetime.now()\n",
    "if flag_history:\n",
    "    ticks_df = [] # ORIGINAL DOWNLOADED DATA\n",
    "    prog_bar(1, ticks, label = \"Processing Prices\", it = \"\", labelwidth = \"12%\", barwidth = \"25%\", barcolor = \"purple\")\n",
    "    \n",
    "    for tic in ticks:\n",
    "        prog_bar(2, ticks, it = tic)\n",
    "        \n",
    "        # get historical price and volumes\n",
    "        try:\n",
    "            if interval != \"1d\":\n",
    "                # df_tic = yf.Ticker(tic).history(start=last_date_start, interval=interval, rounding=True)\n",
    "                df_tic = yf.Ticker(tic).history(interval=interval, rounding=True)\n",
    "                df_tic.index = df_tic.index.tz_convert(\"Europe/Lisbon\")\n",
    "            else:\n",
    "                # df_tic = yf.Ticker(tic).history(start=last_date_start, interval=interval, rounding=True)\n",
    "                df_tic = yf.Ticker(tic).history(period = \"6y\", interval=interval, rounding=True)\n",
    "            \n",
    "            ticks_df.append(df_tic)\n",
    "        except:\n",
    "            print(f\"{tic}'s History not working\")\n",
    "        \n",
    "    data2 = pd.concat(ticks_df,axis=1,keys=ticks)\n",
    "    index_col = pd.MultiIndex.from_tuples(data2.columns)\n",
    "    \n",
    "    if interval != \"1d\":\n",
    "        data2 = pd.concat([pd.DataFrame(pd.date_range(start = data2.index.min(), \n",
    "                            end = datetime.now(pytz.timezone('Europe/Lisbon')))).set_index(0),data2],\n",
    "                            axis=1, join=\"outer\").pad()        \n",
    "    else:\n",
    "        data2 = pd.concat([pd.DataFrame(pd.date_range(start = data2.index.min(), \n",
    "                            end = datetime.now())).set_index(0),data2],\n",
    "                            axis=1, join=\"outer\").pad()\n",
    "        \n",
    "    data2.columns = index_col\n",
    "    data2.columns.names = ['Ticker','Stock Info']\n",
    "    data2.index.name = \"Date\"\n",
    "    \n",
    "#     # CONCATENATE OLD PRICES DATAFRAME WITH NEW ONE\n",
    "#     data12 = data1.loc[:,data1.columns.isin(data2.columns)]\n",
    "    \n",
    "#     # data12 APPLY SPLITSSSSSSSSSSSSSSSSSSSSSSSSSSSSSSSSSSSSSSSSSSSSSSSSSSSSSSSSSSSSSSSSSSSSSSSSS\n",
    "    \n",
    "#     data22 = data2.loc[:,data2.columns.isin(data1.columns)]\n",
    "#     data = pd.concat([data12.iloc[:-31,:],data22],axis=0).pad()\n",
    "    data = data2\n",
    "    \n",
    "    now2 = datetime.now()\n",
    "    delta = now2 - now1\n",
    "    print(f\"History Downloaded! - Process time: {delta.seconds} seconds ({np.round(delta.seconds / 60,2)} minutes)\")\n",
    "    try:\n",
    "        del c, df_tic, index_col, delta, now1, now2\n",
    "    except:\n",
    "        pass        \n",
    "else:\n",
    "    data = data1\n",
    "    print(\"History data already gotten\")"
   ]
  },
  {
   "cell_type": "markdown",
   "id": "230e43d3",
   "metadata": {
    "jp-MarkdownHeadingCollapsed": true,
    "tags": []
   },
   "source": [
    "#### 5.4 Earnings Data"
   ]
  },
  {
   "cell_type": "code",
   "execution_count": 25,
   "id": "4c59fb19-e171-454e-a7bf-829cf472bfde",
   "metadata": {
    "tags": []
   },
   "outputs": [
    {
     "name": "stdout",
     "output_type": "stream",
     "text": [
      "Earnings data already gotten or no needed\n"
     ]
    }
   ],
   "source": [
    "#MAIN DATA GATHERING\n",
    "now1 = datetime.now()\n",
    "if flag_eps:\n",
    "    data_eps = pd.DataFrame()\n",
    "    prog_bar(1, ticks, label = \"Processing Earnings\", it = \"\", labelwidth = \"15%\", barwidth = \"25%\", barcolor = \"purple\")\n",
    "\n",
    "    for tic in ticks:\n",
    "        prog_bar(2, ticks, it = tic)\n",
    "        \n",
    "        # get historical earnings\n",
    "        try:\n",
    "            data_eps = pd.concat([data_eps,pd.DataFrame.from_dict(si.get_earnings_history(tic))], axis = 0)\n",
    "        except:\n",
    "            print(f\"{tic}'s Earnings not working\")\n",
    "            \n",
    "    now2 = datetime.now()\n",
    "    delta = now2 - now1\n",
    "    print(f\"Earnings Downloaded! - Process time: {delta.seconds} seconds ({np.round(delta.seconds / 60,2)} minutes)\")\n",
    "    del c, delta, now1, now2\n",
    "else:\n",
    "    print(\"Earnings data already gotten or no needed\")"
   ]
  },
  {
   "cell_type": "code",
   "execution_count": 26,
   "id": "b1d14383-5df6-4705-8c50-3ffb05a046ac",
   "metadata": {},
   "outputs": [
    {
     "name": "stdout",
     "output_type": "stream",
     "text": [
      "\n",
      "---------------\n",
      "1.4 Data Wrangling\n",
      "---------------\n",
      "\n"
     ]
    }
   ],
   "source": [
    "print(\"\"\"\n",
    "---------------\n",
    "1.4 Data Wrangling\n",
    "---------------\n",
    "\"\"\")"
   ]
  },
  {
   "cell_type": "markdown",
   "id": "1dd3996e",
   "metadata": {
    "jp-MarkdownHeadingCollapsed": true,
    "tags": []
   },
   "source": [
    "### 6. Data Wrangling"
   ]
  },
  {
   "cell_type": "code",
   "execution_count": 27,
   "id": "71a017a1",
   "metadata": {
    "tags": []
   },
   "outputs": [
    {
     "data": {
      "text/plain": [
       "['data',\n",
       " 'data2',\n",
       " 'data_eps',\n",
       " 'data_gral',\n",
       " 'data_gral_top1000',\n",
       " 'data_stats',\n",
       " 'data_stats_val',\n",
       " 'eurusd',\n",
       " 'operations_df',\n",
       " 'tickers']"
      ]
     },
     "execution_count": 27,
     "metadata": {},
     "output_type": "execute_result"
    }
   ],
   "source": [
    "%who_ls DataFrame"
   ]
  },
  {
   "cell_type": "code",
   "execution_count": 19,
   "id": "38628a0c",
   "metadata": {
    "code_folding": [
     0
    ],
    "scrolled": true,
    "tags": []
   },
   "outputs": [
    {
     "name": "stdout",
     "output_type": "stream",
     "text": [
      "Data already checked\n"
     ]
    }
   ],
   "source": [
    "# DATAFRAMES INFO\n",
    "# results = {\"Price\":data,\"Earnings\":data_eps,\"Dividends\":data_div,\"Stats\":data_stats,\"Stats val\":data_stats_val}\n",
    "\n",
    "if flag_history and flag_stats:\n",
    "    try:\n",
    "        del df\n",
    "        del df2\n",
    "    except:\n",
    "        pass\n",
    "    \n",
    "    # df_main = [\"data\",\"data_eps\",\"data_stats\",\"data_stats_val\", \"data_gral\"]\n",
    "    df_main = [\"data\",\"data_stats\",\"data_stats_val\", \"data_gral\"]\n",
    "    \n",
    "    l = %who_ls DataFrame\n",
    "    results = {}\n",
    "    for df in l:\n",
    "        results[df] = eval(df)\n",
    "        \n",
    "    results\n",
    "    for key, value in results.items():\n",
    "        if key in df_main:\n",
    "            try:\n",
    "                print(f\"{key.upper()} df empty? -------------------> {value.empty}\")\n",
    "                if value.empty == False:\n",
    "                    print(f\"Columns Null Percentage in {key}:\")\n",
    "                    print(null_percent(value), end=\"\\n\\n\")\n",
    "                    print(f\"Number of tickers in {key}: {len(value['ticker'].unique())}\", end=\"\\n\\n\")\n",
    "            except:\n",
    "                pass\n",
    "\n",
    "else:\n",
    "    print(\"Data already checked\")"
   ]
  },
  {
   "cell_type": "code",
   "execution_count": 26,
   "id": "fc852065-4504-47d3-bc44-24b2e91f4c01",
   "metadata": {
    "tags": []
   },
   "outputs": [
    {
     "data": {
      "text/html": [
       "<div>\n",
       "<style scoped>\n",
       "    .dataframe tbody tr th:only-of-type {\n",
       "        vertical-align: middle;\n",
       "    }\n",
       "\n",
       "    .dataframe tbody tr th {\n",
       "        vertical-align: top;\n",
       "    }\n",
       "\n",
       "    .dataframe thead th {\n",
       "        text-align: right;\n",
       "    }\n",
       "</style>\n",
       "<table border=\"1\" class=\"dataframe\">\n",
       "  <thead>\n",
       "    <tr style=\"text-align: right;\">\n",
       "      <th></th>\n",
       "      <th>ticker</th>\n",
       "      <th>epsestimate</th>\n",
       "      <th>epsactual</th>\n",
       "    </tr>\n",
       "    <tr>\n",
       "      <th>Date</th>\n",
       "      <th></th>\n",
       "      <th></th>\n",
       "      <th></th>\n",
       "    </tr>\n",
       "  </thead>\n",
       "  <tbody>\n",
       "    <tr>\n",
       "      <th>2022-03-10</th>\n",
       "      <td>000001.SZ</td>\n",
       "      <td>0.33</td>\n",
       "      <td>0.33</td>\n",
       "    </tr>\n",
       "    <tr>\n",
       "      <th>2022-04-27</th>\n",
       "      <td>000001.SZ</td>\n",
       "      <td>0.65</td>\n",
       "      <td>0.56</td>\n",
       "    </tr>\n",
       "    <tr>\n",
       "      <th>2022-08-18</th>\n",
       "      <td>000001.SZ</td>\n",
       "      <td>0.54</td>\n",
       "      <td>NaN</td>\n",
       "    </tr>\n",
       "    <tr>\n",
       "      <th>2022-02-28</th>\n",
       "      <td>0002.HK</td>\n",
       "      <td>NaN</td>\n",
       "      <td>NaN</td>\n",
       "    </tr>\n",
       "    <tr>\n",
       "      <th>2022-04-30</th>\n",
       "      <td>000651.SZ</td>\n",
       "      <td>0.62</td>\n",
       "      <td>0.68</td>\n",
       "    </tr>\n",
       "    <tr>\n",
       "      <th>...</th>\n",
       "      <td>...</td>\n",
       "      <td>...</td>\n",
       "      <td>...</td>\n",
       "    </tr>\n",
       "    <tr>\n",
       "      <th>2021-08-05</th>\n",
       "      <td>ZTS</td>\n",
       "      <td>1.08</td>\n",
       "      <td>1.19</td>\n",
       "    </tr>\n",
       "    <tr>\n",
       "      <th>2021-11-04</th>\n",
       "      <td>ZTS</td>\n",
       "      <td>1.10</td>\n",
       "      <td>1.25</td>\n",
       "    </tr>\n",
       "    <tr>\n",
       "      <th>2022-02-15</th>\n",
       "      <td>ZTS</td>\n",
       "      <td>0.96</td>\n",
       "      <td>1.00</td>\n",
       "    </tr>\n",
       "    <tr>\n",
       "      <th>2022-05-05</th>\n",
       "      <td>ZTS</td>\n",
       "      <td>1.23</td>\n",
       "      <td>1.32</td>\n",
       "    </tr>\n",
       "    <tr>\n",
       "      <th>2022-08-03</th>\n",
       "      <td>ZTS</td>\n",
       "      <td>1.22</td>\n",
       "      <td>NaN</td>\n",
       "    </tr>\n",
       "  </tbody>\n",
       "</table>\n",
       "<p>27261 rows × 3 columns</p>\n",
       "</div>"
      ],
      "text/plain": [
       "               ticker  epsestimate  epsactual\n",
       "Date                                         \n",
       "2022-03-10  000001.SZ         0.33       0.33\n",
       "2022-04-27  000001.SZ         0.65       0.56\n",
       "2022-08-18  000001.SZ         0.54        NaN\n",
       "2022-02-28    0002.HK          NaN        NaN\n",
       "2022-04-30  000651.SZ         0.62       0.68\n",
       "...               ...          ...        ...\n",
       "2021-08-05        ZTS         1.08       1.19\n",
       "2021-11-04        ZTS         1.10       1.25\n",
       "2022-02-15        ZTS         0.96       1.00\n",
       "2022-05-05        ZTS         1.23       1.32\n",
       "2022-08-03        ZTS         1.22        NaN\n",
       "\n",
       "[27261 rows x 3 columns]"
      ]
     },
     "execution_count": 26,
     "metadata": {},
     "output_type": "execute_result"
    }
   ],
   "source": [
    "data_eps"
   ]
  },
  {
   "cell_type": "code",
   "execution_count": 20,
   "id": "b0157465",
   "metadata": {
    "code_folding": [
     0
    ],
    "tags": []
   },
   "outputs": [
    {
     "name": "stdout",
     "output_type": "stream",
     "text": [
      "Earnings data already edited or there are no earnings\n"
     ]
    }
   ],
   "source": [
    "# EPS DF\n",
    "if flag_eps and data_eps.empty == False:\n",
    "    data_eps = data_eps[[\"ticker\",\"startdatetime\",\"epsestimate\",\"epsactual\"]]\n",
    "    data_eps[\"startdatetime\"] = pd.to_datetime(data_eps[\"startdatetime\"]).dt.strftime('%Y-%m-%d')\n",
    "    \n",
    "    data_eps.rename(columns={\"startdatetime\":\"Date\"},inplace=True)\n",
    "    data_eps = data_eps.set_index(pd.DatetimeIndex(data_eps[\"Date\"]),drop = True)\n",
    "    data_eps.drop(labels = \"Date\",axis=1,inplace=True)\n",
    "    data_eps.sort_values([\"ticker\",\"Date\"],inplace=True)\n",
    "    data_eps.dropna(axis=0, how=\"all\",inplace=True)\n",
    "    data_eps.dropna(axis=1, how=\"all\",inplace=True)\n",
    "    print(\"Earnings data edited\")\n",
    "else:\n",
    "    print(\"Earnings data already edited or there are no earnings\")"
   ]
  },
  {
   "cell_type": "markdown",
   "id": "630afcf6-8c81-4735-9a01-52e17f061ebc",
   "metadata": {
    "jp-MarkdownHeadingCollapsed": true,
    "tags": []
   },
   "source": [
    "#### 6.1 Volume Outliers removal"
   ]
  },
  {
   "cell_type": "markdown",
   "id": "a963d663-6391-478d-823e-55b6a768e5fb",
   "metadata": {
    "tags": []
   },
   "source": [
    "##### 6.1.1 IQR"
   ]
  },
  {
   "cell_type": "code",
   "execution_count": 30,
   "id": "a2257251-9622-4547-a61e-b5db6477875b",
   "metadata": {},
   "outputs": [],
   "source": [
    "# iqr_vol = data.loc[:,(ticks,\"Volume\")].describe().iloc[6,:] - data.loc[:,(ticks,\"Volume\")].describe().iloc[4,:]\n",
    "\n",
    "# rango_vol_min_iqr = data.loc[:,(ticks,\"Volume\")].describe().iloc[4,:] - (1.5*iqr_vol)\n",
    "# rango_vol_max_iqr = data.loc[:,(ticks,\"Volume\")].describe().iloc[6,:] + (1.5*iqr_vol)"
   ]
  },
  {
   "cell_type": "code",
   "execution_count": 31,
   "id": "20390036-9040-456a-b177-49cac3a6d012",
   "metadata": {},
   "outputs": [],
   "source": [
    "# test_vol_iqr = data.loc[:,(ticks,\"Volume\")][data.loc[:,(ticks,\"Volume\")] < rango_vol_max_iqr]\n",
    "# test_vol_iqr.fillna(test_vol_iqr.max(), inplace=True)"
   ]
  },
  {
   "cell_type": "code",
   "execution_count": 32,
   "id": "071dbcf8-592c-4200-a211-b3b917a280a9",
   "metadata": {},
   "outputs": [],
   "source": [
    "# help(outliers_iqr)"
   ]
  },
  {
   "cell_type": "code",
   "execution_count": 33,
   "id": "515af828-8f74-41b4-9de2-b6be7f57f524",
   "metadata": {},
   "outputs": [],
   "source": [
    "# data_iqr, filt_iqr, rango_min_iqr, rango_max_iqr =  outliers_iqr(data)"
   ]
  },
  {
   "cell_type": "markdown",
   "id": "a6aa32b5-8788-45c9-baa2-1b3e267d924e",
   "metadata": {
    "tags": []
   },
   "source": [
    "##### 6.1.2 6-Sigma"
   ]
  },
  {
   "cell_type": "code",
   "execution_count": 34,
   "id": "80b9cef5-244d-4a57-8326-92cf55fc7853",
   "metadata": {},
   "outputs": [],
   "source": [
    "# cte = 3\n",
    "# rango_vol_min_sig = data.loc[:,(ticks,\"Volume\")].mean() - (cte * data.loc[:,(ticks,\"Volume\")].std())\n",
    "# rango_vol_max_sig = data.loc[:,(ticks,\"Volume\")].mean() + (cte * data.loc[:,(ticks,\"Volume\")].std())"
   ]
  },
  {
   "cell_type": "code",
   "execution_count": 35,
   "id": "57d812b8-3312-420c-9c5e-438225652f40",
   "metadata": {},
   "outputs": [],
   "source": [
    "# test_vol_sig = data.loc[:,(ticks,\"Volume\")][data.loc[:,(ticks,\"Volume\")] < rango_vol_max_sig]\n",
    "# test_vol_sig.fillna(test_vol_sig.max(), inplace=True)"
   ]
  },
  {
   "cell_type": "code",
   "execution_count": 36,
   "id": "60111fa0-83a7-4287-b087-7a6ecd46eaf2",
   "metadata": {},
   "outputs": [],
   "source": [
    "# help(outliers_sigma)"
   ]
  },
  {
   "cell_type": "code",
   "execution_count": 37,
   "id": "761f9f56-961b-4410-bb80-d8c11dd7b48c",
   "metadata": {},
   "outputs": [],
   "source": [
    "# data_sig, filt_sig, rango_min_sig, rango_max_sig =  outliers_sigma(data, n_sigmas=3)"
   ]
  },
  {
   "cell_type": "code",
   "execution_count": 38,
   "id": "2d2ccee7-8ea0-470f-82d7-81821320c98c",
   "metadata": {},
   "outputs": [],
   "source": [
    "# data.loc[:,(\"AAPL\",\"Volume\")].plot()\n",
    "# data_sig.loc[:,(\"AAPL\",\"Volume\")].plot()"
   ]
  },
  {
   "cell_type": "markdown",
   "id": "17eaed8d-a942-4093-a66e-c1122a8610a4",
   "metadata": {
    "tags": []
   },
   "source": [
    "##### 6.1.3 Demonstration"
   ]
  },
  {
   "cell_type": "code",
   "execution_count": 39,
   "id": "841296d1-de54-4f20-996a-e23243c4f9d6",
   "metadata": {},
   "outputs": [],
   "source": [
    "# fig,ax = plt.subplots(2,1,figsize=(18,7))\n",
    "\n",
    "# test_vol_iqr.plot(kind=\"box\", ax = ax[0])\n",
    "# ax[0].set_title(\"IQR\", fontsize = 25)\n",
    "\n",
    "# test_vol_sig.plot(kind=\"box\", ax = ax[1])      \n",
    "# ax[1].set_title(\"SIGMA\", fontsize = 25, pad = -5)\n",
    "# plt.show()"
   ]
  },
  {
   "cell_type": "code",
   "execution_count": 40,
   "id": "4094e3e9-a1e1-4b79-b4be-c9de11ed9a78",
   "metadata": {},
   "outputs": [],
   "source": [
    "# data.loc[:,(ticks,\"Volume\")].hist(figsize = (15,8),bins = 30)\n",
    "# plt.suptitle(\"Initial\",fontsize = 30)\n",
    "# plt.show()"
   ]
  },
  {
   "cell_type": "code",
   "execution_count": 41,
   "id": "69b07ca8-e637-4f55-a434-bb010ac4e822",
   "metadata": {},
   "outputs": [],
   "source": [
    "# n = 3\n",
    "# n_rows = np.ceil(len(ticks)/n).astype(int)\n",
    "# n_cols = n\n",
    "\n",
    "# fig, axes = plt.subplots(n_rows, n_cols, figsize = (15,8))\n",
    "# i=0\n",
    "# for row_num in range(n_rows):\n",
    "#     for col_num in range(n_cols):\n",
    "#         try:\n",
    "#             ax = axes[row_num][col_num]\n",
    "#             test_vol_iqr[ticks[i]].hist(bins = 100, color=\"k\", alpha = 0.6, ax = ax, label = \"IQR\")\n",
    "#             test_vol_sig[ticks[i]].hist(bins = 100, color=\"y\", alpha = 0.6, ax = ax, label = f\"{cte}-SIGMA\")\n",
    "#             ax.legend()\n",
    "#             i+=1\n",
    "#         except:\n",
    "#             pass\n",
    "# plt.show()"
   ]
  },
  {
   "cell_type": "code",
   "execution_count": 42,
   "id": "b5630a67-4cec-4e5f-b0a5-3ee58a9069ff",
   "metadata": {
    "tags": []
   },
   "outputs": [],
   "source": [
    "# test_vol_iqr.hist(figsize = (15,8),bins = 30)\n",
    "# plt.suptitle(\"Final IQR\",fontsize = 30)\n",
    "# plt.show()"
   ]
  },
  {
   "cell_type": "code",
   "execution_count": 43,
   "id": "a2cef9c5-1223-42c5-84ba-f759a961a179",
   "metadata": {
    "tags": []
   },
   "outputs": [],
   "source": [
    "# test_vol_sig.hist(figsize = (15,8),bins = 30, color = \"g\")\n",
    "# plt.suptitle(\"Final Sigma\",fontsize = 30)\n",
    "# plt.show()"
   ]
  },
  {
   "cell_type": "markdown",
   "id": "9fdec6c8-ec20-4098-ab74-0fb2937e0046",
   "metadata": {
    "tags": []
   },
   "source": [
    "##### 6.1.3 IQR Method Selected"
   ]
  },
  {
   "cell_type": "code",
   "execution_count": 44,
   "id": "fa5b93dd-36d5-4e74-b904-28a4dbcb3cac",
   "metadata": {},
   "outputs": [],
   "source": [
    "# data.loc[:,(ticks,\"Volume\")] = test_vol_iqr"
   ]
  },
  {
   "cell_type": "code",
   "execution_count": 45,
   "id": "f2ba863c-46ab-42ba-82b0-8ea51ad7cc0c",
   "metadata": {},
   "outputs": [],
   "source": [
    "# del test_vol_iqr\n",
    "# del test_vol_sig\n",
    "# del rango_vol_min_iqr\n",
    "# del rango_vol_max_iqr\n",
    "# del rango_vol_min_sig\n",
    "# del rango_vol_max_sig"
   ]
  },
  {
   "cell_type": "markdown",
   "id": "2cd14e06",
   "metadata": {
    "jp-MarkdownHeadingCollapsed": true,
    "tags": []
   },
   "source": [
    "### 7. Export"
   ]
  },
  {
   "cell_type": "code",
   "execution_count": 46,
   "id": "df08800f-3f90-43aa-9be0-c9cff7db1c7c",
   "metadata": {},
   "outputs": [
    {
     "name": "stdout",
     "output_type": "stream",
     "text": [
      "\n",
      "---------------\n",
      "1.6 Export\n",
      "---------------\n",
      "\n"
     ]
    }
   ],
   "source": [
    "print(\"\"\"\n",
    "---------------\n",
    "1.6 Export\n",
    "---------------\n",
    "\"\"\")"
   ]
  },
  {
   "cell_type": "code",
   "execution_count": 47,
   "id": "c8fd95e6-8e32-49d4-9b15-ed38b174ceb0",
   "metadata": {
    "tags": []
   },
   "outputs": [],
   "source": [
    "# HDF EXPORT\n",
    "\n",
    "# store = pd.HDFStore(f\"export/{market}_history.h5\", \"w\")\n",
    "\n",
    "# store.put(f\"{market}_history\", data)\n",
    "# store.put(f\"{market}_stats\",data_stats)\n",
    "# store.put(f\"{market}_stats_val\",data_stats_val)\n",
    "# store.put(f\"{market}_eps\",data_eps)\n",
    "# store.put(f\"{market}_gral\",data_gral)\n",
    "\n",
    "# store.close()\n",
    "\n",
    "# HDF IMPORT\n",
    "\n",
    "# store = pd.HDFStore(f\"export/{market}_history.h5\", \"r\")\n",
    "\n",
    "# data = store.select(f\"{market}_history\")\n",
    "# data_stats = store.select(f\"{market}_stats\")\n",
    "# data_stats_val = store.select(f\"{market}_stats_val\")\n",
    "# data_eps = store.select(f\"{market}_eps\")\n",
    "# data_gral = store.select(f\"{market}_gral\")\n",
    "\n",
    "# store.close()"
   ]
  },
  {
   "cell_type": "code",
   "execution_count": null,
   "id": "d0bdb338-5b1d-4176-b9b3-2f91e9dd9fcd",
   "metadata": {},
   "outputs": [],
   "source": [
    "###PARQUET\n",
    "\n",
    "# data.to_parquet(f\"export/{market}_history.gzip\", compression = \"gzip\")\n",
    "\n",
    "# data = pd.read_parquet(f\"export/{market}_history.gzip\")"
   ]
  },
  {
   "cell_type": "code",
   "execution_count": 62,
   "id": "ae9e7120-6e70-451c-940a-f2972a677a42",
   "metadata": {
    "code_folding": [
     0
    ],
    "jp-MarkdownHeadingCollapsed": true,
    "tags": []
   },
   "outputs": [
    {
     "name": "stdout",
     "output_type": "stream",
     "text": [
      "portfolio_world_index_crypto_currencies_top1000_mcapT22022 History exported\n"
     ]
    }
   ],
   "source": [
    "# EXPORT CARTERA HISTORY DF\n",
    "if flag_history == True:\n",
    "    try:\n",
    "        export(f\"{market}_history\",data)\n",
    "        print(f\"{market} History exported\")\n",
    "    except NameError:\n",
    "        print(\"No History to export\")\n",
    "else:\n",
    "    print(\"Nothing new to export\")"
   ]
  },
  {
   "cell_type": "code",
   "execution_count": 49,
   "id": "9d34484c-7ce9-4814-a774-53df12f900aa",
   "metadata": {},
   "outputs": [
    {
     "name": "stdout",
     "output_type": "stream",
     "text": [
      "Nothing new to export\n"
     ]
    }
   ],
   "source": [
    "# EXPORT STATISTICS DF\n",
    "if flag_loading_global == False:\n",
    "    try:\n",
    "        export(f\"{market}_stats\",data_stats)\n",
    "        print(f\"{market} Data Stats exported\")\n",
    "    except NameError:\n",
    "        print(\"No Stats to export\")\n",
    "else:\n",
    "    print(\"Nothing new to export\")"
   ]
  },
  {
   "cell_type": "code",
   "execution_count": 50,
   "id": "17a0dba6-9ba3-4c15-a599-48bda5ae80a7",
   "metadata": {},
   "outputs": [
    {
     "name": "stdout",
     "output_type": "stream",
     "text": [
      "Nothing new to export\n"
     ]
    }
   ],
   "source": [
    "# EXPORT STATISTICS VAL DF\n",
    "if flag_loading_global == False:\n",
    "    try:\n",
    "        export(f\"{market}_stats_val\",data_stats_val)\n",
    "        print(f\"{market} Data Stats Val exported\")\n",
    "    except NameError:\n",
    "        print(\"No Stats_val to export\")\n",
    "else:\n",
    "    print(\"Nothing new to export\")        "
   ]
  },
  {
   "cell_type": "code",
   "execution_count": 51,
   "id": "66a61e6f-9f1a-41b5-bdcf-c9013bc9538d",
   "metadata": {},
   "outputs": [
    {
     "name": "stdout",
     "output_type": "stream",
     "text": [
      "Nothing new to export\n"
     ]
    }
   ],
   "source": [
    "# EXPORT EARNINGS DF\n",
    "if flag_loading_global == False:\n",
    "    try:\n",
    "        export(f\"{market}_eps\",data_eps)\n",
    "        print(f\"{market} Earnings exported\")\n",
    "    except NameError:\n",
    "        print(\"No Earnings to export\") \n",
    "else:\n",
    "    print(\"Nothing new to export\")"
   ]
  },
  {
   "cell_type": "code",
   "execution_count": 52,
   "id": "9712aa77-bb3f-40f2-9c06-91ed684c9e6b",
   "metadata": {},
   "outputs": [
    {
     "name": "stdout",
     "output_type": "stream",
     "text": [
      "Nothing new to export\n"
     ]
    }
   ],
   "source": [
    "# EXPORT GENERAL DATA GRAL DF\n",
    "if flag_loading_global == False:\n",
    "    try:\n",
    "        export(f\"{market}_gral\",data_gral)\n",
    "        print(f\"{market} General Data exported\")\n",
    "    except NameError:\n",
    "        print(\"No General data to export\")  \n",
    "else:\n",
    "    print(\"Nothing new to export\")"
   ]
  },
  {
   "cell_type": "markdown",
   "id": "d25c21fe-158b-41eb-b8f3-ca6f4daaba4e",
   "metadata": {
    "tags": []
   },
   "source": [
    "### 8. Workflow Connections"
   ]
  },
  {
   "cell_type": "markdown",
   "id": "bd71ee21-7089-499d-b5c6-8b651cac4222",
   "metadata": {},
   "source": [
    "[2. Strategy Update](./2_STRATEGY_UPDATE.ipynb)"
   ]
  },
  {
   "cell_type": "markdown",
   "id": "f46edf9e-b802-464b-84bb-5b93ecfc90be",
   "metadata": {},
   "source": [
    "[3. Technical Analysis](./3_TEC_ANALYSIS.ipynb)"
   ]
  },
  {
   "cell_type": "markdown",
   "id": "e437ab78-6799-42f4-a536-213a14a65b09",
   "metadata": {
    "tags": []
   },
   "source": [
    "[4. AI_ANALYSIS](./4_AI_ANALYSIS.ipynb)"
   ]
  },
  {
   "cell_type": "markdown",
   "id": "c2af1924-5dcc-4394-afad-4708c4394716",
   "metadata": {},
   "source": [
    "[5. Natural Language Processing](./5_PLN_NEWS.ipynb)"
   ]
  },
  {
   "cell_type": "markdown",
   "id": "09875a75-2fad-44e6-aa67-5443377dfa29",
   "metadata": {
    "tags": []
   },
   "source": [
    "### .......TESTS"
   ]
  },
  {
   "cell_type": "raw",
   "id": "06dfb865-99fb-489c-a192-a426d9d42cbd",
   "metadata": {},
   "source": [
    "#### STOCKS SPLITS CORRECTION TRY. NOT FINISHED !\n",
    "today_str = datetime.now().strftime(\"%Y-%m-%d\")\n",
    "yesterday_str = (datetime.now()-timedelta(days=1)).strftime(\"%Y-%m-%d\")\n",
    "\n",
    "today_splits = data.loc[today_str,(ticks,\"Stock Splits\")][data.loc[today_str,(ticks,\"Stock Splits\")] != 0]\n",
    "# yesterday_splits = data.loc[yesterday_str,(ticks,\"Stock Splits\")][data.loc[yesterday_str,(ticks,\"Stock Splits\")] != 0]\n",
    "\n",
    "# if (today_splits != 0).values & (yesterday_splits == 0).values:\n",
    "#     print(today_splits)\n",
    "\n",
    "if (today_splits != 0).values:\n",
    "    tics_splits = today_splits.index.get_level_values(0)\n",
    "    try:\n",
    "        if (data.loc[yesterday_str,(tics_splits,\"Stock Splits\")][data.loc[yesterday_str,(tics_splits,\"Stock Splits\")] != 0] != 0).values:\n",
    "            split_ratio = 1\n",
    "    \n",
    "    print(today_splits.index.get_level_values(0), today_splits.values)\n",
    "\n",
    "if tics_splits.size > 1:\n",
    "    for tic_split in tic_splits:\n",
    "        test.iloc[:-32].loc[:,(tics_splits[tic_split],[\"Open\",\"High\",\"Low\",\"Close\"])] = data.iloc[:-32].loc[:,(tics_splits[tic_split],[\"Open\",\"High\",\"Low\",\"Close\"])] / split_ratio[tic_split] # data12\n",
    "else:\n",
    "    test.iloc[:-32].loc[:,(tics_splits[0],[\"Open\",\"High\",\"Low\",\"Close\"])] = data.iloc[:-32].loc[:,(tics_splits[0],[\"Open\",\"High\",\"Low\",\"Close\"])] / split_ratio[0] # data12"
   ]
  },
  {
   "cell_type": "code",
   "execution_count": 53,
   "id": "ca72d2a6-0a46-434b-a923-ef599a89de94",
   "metadata": {},
   "outputs": [],
   "source": [
    "# import cufflinks as cf\n",
    "# import plotly.offline as plyo\n",
    "# import chart_studio.plotly as py\n",
    "# import plotly.express as px\n",
    "# import plotly.graph_objects as go\n",
    "\n",
    "# plyo.init_notebook_mode(connected=True)\n",
    "\n",
    "# i=0\n",
    "# qf = cf.QuantFig(data[ticks[i]].resample(\"1d\").mean(), kind='candlestick', title = \"AAPL\", name = \"AAPL\")\n",
    "\n",
    "# qf.add_volume()\n",
    "# qf.add_macd()\n",
    "# # qf.add_rsi(periods=14)"
   ]
  },
  {
   "cell_type": "code",
   "execution_count": 54,
   "id": "8a868b21-f1de-43ad-ad66-22063d27ed46",
   "metadata": {
    "tags": []
   },
   "outputs": [],
   "source": [
    "# i= 0\n",
    "# for row_num in range(n_rows):\n",
    "#     for col_num in range(n_cols):\n",
    "#         print(f\"row: {row_num}, col: {col_num}, i: {i}\")\n",
    "#         # if row_num % 2 == 0:\n",
    "#         i+=1\n",
    "#     i-=2"
   ]
  },
  {
   "cell_type": "code",
   "execution_count": 55,
   "id": "73c927ac-5067-4bf1-bc6d-ce1edd3e35a3",
   "metadata": {
    "tags": []
   },
   "outputs": [],
   "source": [
    "#CHART 1: Stock Price | Volume per tick\n",
    "# def lines_plot(start, t):\n",
    "#     letra = \"consolas\"\n",
    "    \n",
    "#     n_cols = 2\n",
    "#     n_rows = np.ceil(len(ticks)/n_cols).astype(int) * 2\n",
    "#     ysize = len(ticks) / 0.4\n",
    "#     i = 0\n",
    "    \n",
    "#     fig, axes = plt.subplots(n_rows, n_cols, figsize = (20,ysize), \n",
    "#                              gridspec_kw={'height_ratios': int(n_rows / 2)*[3, 1]})\n",
    "    \n",
    "#     for row_num in range(n_rows):\n",
    "#         for col_num in range(n_cols):\n",
    "#             if row_num % 2 == 0:\n",
    "#                 try:\n",
    "#                     ax = axes[row_num][col_num]\n",
    "#                     tic_name = data_gral[\"name\"][data_gral[\"ticker\"] == ticks[i]][i]\n",
    "#                     data = ticks_df2[i].groupby([pd.Grouper(freq=f'1{t}', sort=True)]).mean().interpolate()[start:].dropna(how=\"all\", axis=0)\n",
    "#                     up = data[data[\"Close\"] >= data[\"Open\"]]\n",
    "#                     down = data[data[\"Close\"] < data[\"Open\"]]\n",
    "                    \n",
    "#                     #Price plot\n",
    "#                     ax.fill_between(data[\"Close\"].index,\n",
    "#                                      data[\"Low\"], \n",
    "#                                      data[\"High\"],\n",
    "#                                      color = \"blue\",\n",
    "#                                      alpha = 0.1,\n",
    "#                                      label = \"Price delta step\")\n",
    "#                     ax.plot(data[\"Close\"],\n",
    "#                             \"--k\", label = \"Close Price\")\n",
    "                    \n",
    "#                     ax.set_title(tic_name,font = letra, fontsize=20)\n",
    "#                     # ax.legend(loc=(0.01,0.8))\n",
    "#                     ax.legend()\n",
    "#                     ax.set_xticklabels(ax.get_xticklabels(), rotation = 45)\n",
    "#                     ax.set_ylabel(\"Price\",font = letra, fontsize=15)\n",
    "#                     ax.set_ylim(np.min(data[\"Close\"])/1.1,np.max(data[\"Close\"])*1.1)\n",
    "#                     # Operations reference\n",
    "#                     try:\n",
    "#                         for j in range(len(operations_df.index[operations_df[\"ticker\"] == ticks[i]])):\n",
    "#                             if operations_df.index[operations_df[\"ticker\"] == ticks[i]][j] >= min(data[\"Close\"].index).tz_convert(None):\n",
    "                                    \n",
    "#                                 ax.axvline(operations_df.index[operations_df[\"ticker\"] == ticks[i]][j],\n",
    "#                                                    color=\"orange\", linestyle=\"dashed\", alpha = 0.6)\n",
    "                                \n",
    "#                                 ax.axhline(operations_df[\"operation_price\"][operations_df[\"ticker\"] == ticks[i]][j],\n",
    "#                                                    color=\"orange\", linestyle=\"dashed\", alpha = 0.6)\n",
    "#                     except:\n",
    "#                         pass\n",
    "#                 except:\n",
    "#                     pass\n",
    "#             else:\n",
    "#                 # Volume plot\n",
    "#                 ax2 = axes[row_num][col_num]\n",
    "#                 ax2.bar(up.index,up.Volume, width, color='green', edgecolor=\"#EAEAF2\")\n",
    "#                 ax2.bar(down.index,down.Volume,width,color='red', edgecolor=\"#EAEAF2\")\n",
    "#                 ax2.set_ylabel(\"Volume\",font = letra, fontsize=15)\n",
    "#                 ax2.grid(False)\n",
    "#                 ax2.set_xticklabels(ax.get_xticklabels(), rotation = 45)\n",
    "#             i+=1\n",
    "        \n",
    "#     fig.suptitle(f'Quick Look last {-start} days',font = letra, fontsize= 35, y = 1.001)\n",
    "#     fig.tight_layout()\n",
    "#     plt.show()\n",
    "\n",
    "# # DISPLAY\n",
    "# start = widgets.IntSlider(min = -360, max = -10, step = 15, value = -120, description = \"Steps before\",\n",
    "#                                   style = {'description_width': 'initial'},\n",
    "#                                  layout=widgets.Layout(width=\"30%\"))\n",
    "\n",
    "# t = widgets.Dropdown(options = [\"d\",\"h\"], description = \"Select Prices Interval\",\n",
    "#                      style = {'description_width': 'initial'}, layout=widgets.Layout(width=\"25%\"))\n",
    "\n",
    "# ui = widgets.Box([start,t])\n",
    "# out = widgets.interactive_output(lines_plot, {'start': start, 't': t})\n",
    "# display(ui,out)"
   ]
  },
  {
   "cell_type": "code",
   "execution_count": 56,
   "id": "023bb2a0-7689-4ba5-8d62-4c6de9706211",
   "metadata": {},
   "outputs": [],
   "source": [
    "# def ta(t,start):\n",
    "#     plt.plot(ticks_df2[0].groupby([pd.Grouper(freq=f'1{t}', sort=True)]).mean()[\"Close\"][start:],\n",
    "#          \"ro\")\n",
    "# interact(ta,t = [\"d\",\"h\"],\n",
    "#         start = widgets.IntSlider(min = -200, max= -10))"
   ]
  },
  {
   "cell_type": "code",
   "execution_count": 57,
   "id": "0c83eecc-9d90-4609-bbb1-5b11d31a82bb",
   "metadata": {
    "tags": []
   },
   "outputs": [],
   "source": [
    "#CHART 2: Stock Price | Volume per tick\n",
    "# def candle_plot(start, t):\n",
    "#     letra = \"consolas\"\n",
    "    \n",
    "#     n = 2\n",
    "#     n_rows = np.ceil(len(ticks)/n).astype(int)\n",
    "#     n_cols = n\n",
    "#     ysize = len(ticks) / 0.4\n",
    "#     i = 0\n",
    "    \n",
    "#     #define colors to use\n",
    "#     col1 = 'green'\n",
    "#     col2 = 'red'\n",
    "    \n",
    "#     if t == \"d\":\n",
    "#         #define width of candlestick elements\n",
    "#         width = 1\n",
    "#         width2 = 0.5\n",
    "#     else:\n",
    "#         #define width of candlestick elements\n",
    "#         width = .7/24\n",
    "#         width2 = .3/24\n",
    "#         start = start*24\n",
    "        \n",
    "#     fig, axes = plt.subplots(n_rows, n_cols, figsize = (20,ysize))\n",
    "#     for row_num in range(n_rows):\n",
    "#         for col_num in range(n_cols):\n",
    "#             try:\n",
    "#                 ax = axes[row_num][col_num]\n",
    "#                 tic_name = data_gral[\"name\"][data_gral[\"ticker\"] == ticks[i]][i]\n",
    "#                 data = ticks_df2[i].groupby([pd.Grouper(freq=f'1{t}', sort=True)]).mean()[start:]\n",
    "                \n",
    "#                 #Price plot\n",
    "                \n",
    "#                 #define up and down prices\n",
    "#                 up = data[data[\"Close\"]>=data[\"Open\"]]\n",
    "#                 down = data[data[\"Close\"]<data[\"Open\"]]\n",
    "\n",
    "#                 #plot up prices\n",
    "#                 ax.bar(up.index,up.Close-up.Open,width,bottom=up.Open,color=col1, edgecolor=\"#EAEAF2\")\n",
    "#                 ax.bar(up.index,up.High-up.Close,width2,bottom=up.Close,color=col1, edgecolor=\"#EAEAF2\")\n",
    "#                 ax.bar(up.index,up.Low-up.Open,width2,bottom=up.Open,color=col1, edgecolor=\"#EAEAF2\")\n",
    "                \n",
    "#                 #plot down prices\n",
    "#                 ax.bar(down.index,down.Close-down.Open,width,bottom=down.Open,color=col2, edgecolor=\"#EAEAF2\")\n",
    "#                 ax.bar(down.index,down.High-down.Open,width2,bottom=down.Open,color=col2, edgecolor=\"#EAEAF2\")\n",
    "#                 ax.bar(down.index,down.Low-down.Close,width2,bottom=down.Close,color=col2, edgecolor=\"#EAEAF2\")  \n",
    "                \n",
    "#                 ax.set_title(tic_name,font = letra, fontsize=20)\n",
    "#                 # ax.legend(loc=(0.01,0.85))\n",
    "#                 ax.set_xticklabels(data.index.strftime(\"%d-%m-%Y\"), rotation = 45)\n",
    "#                 ax.set_ylabel(\"Price\",font = letra, fontsize=15)\n",
    "                \n",
    "#                 try:\n",
    "#                     for j in range(len(operations_df.index[operations_df[\"ticker\"] == ticks[i]])):\n",
    "#                         if operations_df.index[operations_df[\"ticker\"] == ticks[i]][j] >= min(data[\"Close\"].index[start:]).tz_convert(None):\n",
    "                                \n",
    "#                             ax.axvline(operations_df.index[operations_df[\"ticker\"] == ticks[i]][j],\n",
    "#                                                color=\"orange\", linestyle=\"dashed\", alpha = 0.6)\n",
    "                            \n",
    "#                             ax.axhline(operations_df[\"operation_price\"][operations_df[\"ticker\"] == ticks[i]][j],\n",
    "#                                                color=\"orange\", linestyle=\"dashed\", alpha = 0.6)\n",
    "#                 except:\n",
    "#                     pass\n",
    "            \n",
    "#                 # volume plot\n",
    "#                 ax2 = ax.twinx()\n",
    "#                 # ax2.fill_between(data[(ticks[i],\"Volume [k]\")].index[:], \n",
    "#                 #         data[(ticks[i],\"Volume [k]\")][start:],\n",
    "#                 #         color = \"red\",\n",
    "#                 #         alpha = 0.1,\n",
    "#                 #         label = \"Volume [k]\")\n",
    "                \n",
    "#                 ax2.set_ylabel(\"Volume [k]\",font = letra, fontsize=15)\n",
    "#                 # ax2.legend(loc=(0.01,0.78))\n",
    "#                 ax2.grid(False)\n",
    "    \n",
    "#                 i+=1\n",
    "#             except:\n",
    "#                 pass\n",
    "            \n",
    "#     fig.suptitle(f'Quick Look last {-start} days',font = letra, fontsize= 35, y = 1.001)\n",
    "#     fig.tight_layout()\n",
    "#     plt.show()\n",
    "\n",
    "# # DISPLAY\n",
    "# start = widgets.IntSlider(min = -360, max = -10, step = 15, value = -120, description = \"Steps before\",\n",
    "#                                   style = {'description_width': 'initial'},\n",
    "#                                  layout=widgets.Layout(width=\"30%\"))\n",
    "\n",
    "# t = widgets.Dropdown(options = [\"d\",\"h\"], description = \"Select Prices Interval\",\n",
    "#                      style = {'description_width': 'initial'}, layout=widgets.Layout(width=\"25%\"))\n",
    "\n",
    "# ui = widgets.Box([start,t])\n",
    "# out = widgets.interactive_output(candle_plot, {'start': start, 't': t})\n",
    "# display(ui,out)"
   ]
  },
  {
   "cell_type": "code",
   "execution_count": 58,
   "id": "9d84e111-b0bf-4960-96b0-76943ad9fd5a",
   "metadata": {},
   "outputs": [],
   "source": [
    "# fig, ax = plt.subplots(figsize=(18,5))\n",
    "# #define width of candlestick elements\n",
    "# width = 1\n",
    "# start = -150\n",
    "# # prices = data[(ticks[0])][-60:]\n",
    "# data = ticks_df2[8].groupby([pd.Grouper(freq=f'1d', sort=True)]).mean()[start:].dropna(how=\"all\", axis=0)\n",
    "\n",
    "# #define up and down prices\n",
    "# up = data[data[\"Close\"]>=data[\"Open\"]]\n",
    "# down = data[data[\"Close\"]<data[\"Open\"]]\n",
    "\n",
    "# ax.plot(data[\"Close\"])\n",
    "# ax.set_ylim(np.min(data.Close)/2,)\n",
    "\n",
    "# ax2 = ax.twinx()\n",
    "\n",
    "# ax2.bar(up.index,up.Volume, width, color='green', edgecolor=\"#EAEAF2\")\n",
    "# ax2.bar(down.index,down.Volume,width,color='red', edgecolor=\"#EAEAF2\")\n",
    "# ax2.set_ylim(0,2*np.max(data.Volume))\n",
    "# ax2.grid(False)\n",
    "\n",
    "\n",
    "# #rotate x-axis tick labels\n",
    "# plt.xticks(rotation=45, ha='right')\n",
    "\n",
    "# #display candlestick chart\n",
    "# plt.show()"
   ]
  },
  {
   "cell_type": "code",
   "execution_count": 59,
   "id": "79229a47-e608-430a-a53e-c4bf6e7bdcf0",
   "metadata": {
    "tags": []
   },
   "outputs": [],
   "source": [
    "## SINGLE CANDLE PLOT TO TEST\n",
    "\n",
    "# fig, ax = plt.subplots(figsize=(18,5))\n",
    "# #define width of candlestick elements\n",
    "# width = 1/2\n",
    "# width2 = 0.5/2\n",
    "# start = -48*2\n",
    "# # prices = data[(ticks[0])][-60:]\n",
    "# data = ticks_df2[i].groupby([pd.Grouper(freq=f'1h', sort=True)]).mean()[start:].dropna(how=\"all\", axis=0)\n",
    "\n",
    "# #define up and down prices\n",
    "# # data.reset_index(inplace=True)\n",
    "# up = data[data[\"Close\"]>=data[\"Open\"]]\n",
    "# down = data[data[\"Close\"]<data[\"Open\"]]\n",
    "\n",
    "# #define colors to use\n",
    "# col1 = 'green'\n",
    "# col2 = 'red'\n",
    "\n",
    "# #plot up prices\n",
    "# plt.bar(up.index.strftime('%d,%m,%Y %H'),up.Close-up.Open,width, bottom=up.Open,color=col1, edgecolor=\"#EAEAF2\")\n",
    "# plt.bar(up.index.strftime('%d,%m,%Y %H'),up.High-up.Close,width2, bottom=up.Close,color=col1, edgecolor=\"#EAEAF2\")\n",
    "# plt.bar(up.index.strftime('%d,%m,%Y %H'),up.Low-up.Open,width2, bottom=up.Open,color=col1, edgecolor=\"#EAEAF2\")\n",
    "\n",
    "# #plot down prices\n",
    "# plt.bar(down.index.strftime('%d,%m,%Y %H'),down.Close-down.Open,width,bottom=down.Open,color=col2, edgecolor=\"#EAEAF2\")\n",
    "# plt.bar(down.index.strftime('%d,%m,%Y %H'),down.High-down.Open,width2,bottom=down.Open,color=col2, edgecolor=\"#EAEAF2\")\n",
    "# plt.bar(down.index.strftime('%d,%m,%Y %H'),down.Low-down.Close,width2,bottom=down.Close,color=col2, edgecolor=\"#EAEAF2\")\n",
    "\n",
    "# #rotate x-axis tick labels\n",
    "# plt.xticks(rotation=45, ha='right')\n",
    "\n",
    "# #display candlestick chart\n",
    "# plt.show()"
   ]
  }
 ],
 "metadata": {
  "kernelspec": {
   "display_name": "Python 3 (ipykernel)",
   "language": "python",
   "name": "python3"
  },
  "language_info": {
   "codemirror_mode": {
    "name": "ipython",
    "version": 3
   },
   "file_extension": ".py",
   "mimetype": "text/x-python",
   "name": "python",
   "nbconvert_exporter": "python",
   "pygments_lexer": "ipython3",
   "version": "3.10.4"
  },
  "toc-autonumbering": false,
  "toc-showcode": false,
  "toc-showmarkdowntxt": false,
  "toc-showtags": false
 },
 "nbformat": 4,
 "nbformat_minor": 5
}
